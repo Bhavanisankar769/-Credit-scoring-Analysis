{
 "cells": [
  {
   "cell_type": "markdown",
   "id": "e4e00c2d",
   "metadata": {
    "papermill": {
     "duration": 0.011989,
     "end_time": "2022-07-23T20:48:58.265324",
     "exception": false,
     "start_time": "2022-07-23T20:48:58.253335",
     "status": "completed"
    },
    "tags": []
   },
   "source": [
    "# Import Libraries"
   ]
  },
  {
   "cell_type": "code",
   "execution_count": 1,
   "id": "9c9f9f2a",
   "metadata": {
    "execution": {
     "iopub.execute_input": "2022-07-23T20:48:58.287230Z",
     "iopub.status.busy": "2022-07-23T20:48:58.286751Z",
     "iopub.status.idle": "2022-07-23T20:48:59.663802Z",
     "shell.execute_reply": "2022-07-23T20:48:59.662807Z"
    },
    "papermill": {
     "duration": 1.391265,
     "end_time": "2022-07-23T20:48:59.666706",
     "exception": false,
     "start_time": "2022-07-23T20:48:58.275441",
     "status": "completed"
    },
    "tags": []
   },
   "outputs": [],
   "source": [
    "import numpy as np\n",
    "import pandas as pd \n",
    "import matplotlib.pyplot as plt\n",
    "%matplotlib inline\n",
    "import time \n",
    "\n",
    "#preprocessing\n",
    "from sklearn.impute import KNNImputer,SimpleImputer\n",
    "from sklearn.preprocessing import StandardScaler\n",
    "from sklearn.model_selection import train_test_split\n",
    "from sklearn.preprocessing import LabelEncoder\n",
    "\n",
    "from sklearn.linear_model import LogisticRegression\n",
    "from sklearn.neighbors import KNeighborsClassifier\n",
    "from sklearn.svm import SVC\n",
    "from sklearn.naive_bayes import GaussianNB\n",
    "from sklearn.tree import DecisionTreeClassifier\n",
    "from sklearn.ensemble import RandomForestClassifier\n",
    "from xgboost import XGBClassifier\n",
    "\n",
    "from sklearn.metrics import confusion_matrix, accuracy_score, precision_score, recall_score, f1_score, fbeta_score, classification_report\n",
    "\n",
    "#plot\n",
    "import matplotlib.pyplot as plt\n",
    "import seaborn as sns\n",
    "%matplotlib inline\n",
    "sns.set(style ='whitegrid')\n",
    "pd.set_option('display.max_columns',100000)\n"
   ]
  },
  {
   "cell_type": "markdown",
   "id": "86b24e2d",
   "metadata": {
    "papermill": {
     "duration": 0.009619,
     "end_time": "2022-07-23T20:48:59.686934",
     "exception": false,
     "start_time": "2022-07-23T20:48:59.677315",
     "status": "completed"
    },
    "tags": []
   },
   "source": [
    "# Exploratory Data Analysis \n"
   ]
  },
  {
   "cell_type": "code",
   "execution_count": 2,
   "id": "7595160b",
   "metadata": {
    "execution": {
     "iopub.execute_input": "2022-07-23T20:48:59.709900Z",
     "iopub.status.busy": "2022-07-23T20:48:59.709156Z",
     "iopub.status.idle": "2022-07-23T20:49:00.669815Z",
     "shell.execute_reply": "2022-07-23T20:49:00.668793Z"
    },
    "papermill": {
     "duration": 0.975151,
     "end_time": "2022-07-23T20:49:00.673047",
     "exception": false,
     "start_time": "2022-07-23T20:48:59.697896",
     "status": "completed"
    },
    "tags": []
   },
   "outputs": [
    {
     "name": "stderr",
     "output_type": "stream",
     "text": [
      "/opt/conda/lib/python3.7/site-packages/IPython/core/interactiveshell.py:3552: DtypeWarning: Columns (26) have mixed types.Specify dtype option on import or set low_memory=False.\n",
      "  exec(code_obj, self.user_global_ns, self.user_ns)\n"
     ]
    }
   ],
   "source": [
    "train_df=pd.read_csv('../input/credit-score-classification/train.csv')"
   ]
  },
  {
   "cell_type": "code",
   "execution_count": 3,
   "id": "b2909db3",
   "metadata": {
    "execution": {
     "iopub.execute_input": "2022-07-23T20:49:00.695133Z",
     "iopub.status.busy": "2022-07-23T20:49:00.694849Z",
     "iopub.status.idle": "2022-07-23T20:49:00.727047Z",
     "shell.execute_reply": "2022-07-23T20:49:00.726029Z"
    },
    "papermill": {
     "duration": 0.046824,
     "end_time": "2022-07-23T20:49:00.729995",
     "exception": false,
     "start_time": "2022-07-23T20:49:00.683171",
     "status": "completed"
    },
    "tags": []
   },
   "outputs": [
    {
     "data": {
      "text/html": [
       "<div>\n",
       "<style scoped>\n",
       "    .dataframe tbody tr th:only-of-type {\n",
       "        vertical-align: middle;\n",
       "    }\n",
       "\n",
       "    .dataframe tbody tr th {\n",
       "        vertical-align: top;\n",
       "    }\n",
       "\n",
       "    .dataframe thead th {\n",
       "        text-align: right;\n",
       "    }\n",
       "</style>\n",
       "<table border=\"1\" class=\"dataframe\">\n",
       "  <thead>\n",
       "    <tr style=\"text-align: right;\">\n",
       "      <th></th>\n",
       "      <th>ID</th>\n",
       "      <th>Customer_ID</th>\n",
       "      <th>Month</th>\n",
       "      <th>Name</th>\n",
       "      <th>Age</th>\n",
       "      <th>SSN</th>\n",
       "      <th>Occupation</th>\n",
       "      <th>Annual_Income</th>\n",
       "      <th>Monthly_Inhand_Salary</th>\n",
       "      <th>Num_Bank_Accounts</th>\n",
       "      <th>Num_Credit_Card</th>\n",
       "      <th>Interest_Rate</th>\n",
       "      <th>Num_of_Loan</th>\n",
       "      <th>Type_of_Loan</th>\n",
       "      <th>Delay_from_due_date</th>\n",
       "      <th>Num_of_Delayed_Payment</th>\n",
       "      <th>Changed_Credit_Limit</th>\n",
       "      <th>Num_Credit_Inquiries</th>\n",
       "      <th>Credit_Mix</th>\n",
       "      <th>Outstanding_Debt</th>\n",
       "      <th>Credit_Utilization_Ratio</th>\n",
       "      <th>Credit_History_Age</th>\n",
       "      <th>Payment_of_Min_Amount</th>\n",
       "      <th>Total_EMI_per_month</th>\n",
       "      <th>Amount_invested_monthly</th>\n",
       "      <th>Payment_Behaviour</th>\n",
       "      <th>Monthly_Balance</th>\n",
       "      <th>Credit_Score</th>\n",
       "    </tr>\n",
       "  </thead>\n",
       "  <tbody>\n",
       "    <tr>\n",
       "      <th>0</th>\n",
       "      <td>0x1602</td>\n",
       "      <td>CUS_0xd40</td>\n",
       "      <td>January</td>\n",
       "      <td>Aaron Maashoh</td>\n",
       "      <td>23</td>\n",
       "      <td>821-00-0265</td>\n",
       "      <td>Scientist</td>\n",
       "      <td>19114.12</td>\n",
       "      <td>1824.843333</td>\n",
       "      <td>3</td>\n",
       "      <td>4</td>\n",
       "      <td>3</td>\n",
       "      <td>4</td>\n",
       "      <td>Auto Loan, Credit-Builder Loan, Personal Loan,...</td>\n",
       "      <td>3</td>\n",
       "      <td>7</td>\n",
       "      <td>11.27</td>\n",
       "      <td>4.0</td>\n",
       "      <td>_</td>\n",
       "      <td>809.98</td>\n",
       "      <td>26.822620</td>\n",
       "      <td>22 Years and 1 Months</td>\n",
       "      <td>No</td>\n",
       "      <td>49.574949</td>\n",
       "      <td>80.41529543900253</td>\n",
       "      <td>High_spent_Small_value_payments</td>\n",
       "      <td>312.49408867943663</td>\n",
       "      <td>Good</td>\n",
       "    </tr>\n",
       "    <tr>\n",
       "      <th>1</th>\n",
       "      <td>0x1603</td>\n",
       "      <td>CUS_0xd40</td>\n",
       "      <td>February</td>\n",
       "      <td>Aaron Maashoh</td>\n",
       "      <td>23</td>\n",
       "      <td>821-00-0265</td>\n",
       "      <td>Scientist</td>\n",
       "      <td>19114.12</td>\n",
       "      <td>NaN</td>\n",
       "      <td>3</td>\n",
       "      <td>4</td>\n",
       "      <td>3</td>\n",
       "      <td>4</td>\n",
       "      <td>Auto Loan, Credit-Builder Loan, Personal Loan,...</td>\n",
       "      <td>-1</td>\n",
       "      <td>NaN</td>\n",
       "      <td>11.27</td>\n",
       "      <td>4.0</td>\n",
       "      <td>Good</td>\n",
       "      <td>809.98</td>\n",
       "      <td>31.944960</td>\n",
       "      <td>NaN</td>\n",
       "      <td>No</td>\n",
       "      <td>49.574949</td>\n",
       "      <td>118.28022162236736</td>\n",
       "      <td>Low_spent_Large_value_payments</td>\n",
       "      <td>284.62916249607184</td>\n",
       "      <td>Good</td>\n",
       "    </tr>\n",
       "    <tr>\n",
       "      <th>2</th>\n",
       "      <td>0x1604</td>\n",
       "      <td>CUS_0xd40</td>\n",
       "      <td>March</td>\n",
       "      <td>Aaron Maashoh</td>\n",
       "      <td>-500</td>\n",
       "      <td>821-00-0265</td>\n",
       "      <td>Scientist</td>\n",
       "      <td>19114.12</td>\n",
       "      <td>NaN</td>\n",
       "      <td>3</td>\n",
       "      <td>4</td>\n",
       "      <td>3</td>\n",
       "      <td>4</td>\n",
       "      <td>Auto Loan, Credit-Builder Loan, Personal Loan,...</td>\n",
       "      <td>3</td>\n",
       "      <td>7</td>\n",
       "      <td>_</td>\n",
       "      <td>4.0</td>\n",
       "      <td>Good</td>\n",
       "      <td>809.98</td>\n",
       "      <td>28.609352</td>\n",
       "      <td>22 Years and 3 Months</td>\n",
       "      <td>No</td>\n",
       "      <td>49.574949</td>\n",
       "      <td>81.699521264648</td>\n",
       "      <td>Low_spent_Medium_value_payments</td>\n",
       "      <td>331.2098628537912</td>\n",
       "      <td>Good</td>\n",
       "    </tr>\n",
       "    <tr>\n",
       "      <th>3</th>\n",
       "      <td>0x1605</td>\n",
       "      <td>CUS_0xd40</td>\n",
       "      <td>April</td>\n",
       "      <td>Aaron Maashoh</td>\n",
       "      <td>23</td>\n",
       "      <td>821-00-0265</td>\n",
       "      <td>Scientist</td>\n",
       "      <td>19114.12</td>\n",
       "      <td>NaN</td>\n",
       "      <td>3</td>\n",
       "      <td>4</td>\n",
       "      <td>3</td>\n",
       "      <td>4</td>\n",
       "      <td>Auto Loan, Credit-Builder Loan, Personal Loan,...</td>\n",
       "      <td>5</td>\n",
       "      <td>4</td>\n",
       "      <td>6.27</td>\n",
       "      <td>4.0</td>\n",
       "      <td>Good</td>\n",
       "      <td>809.98</td>\n",
       "      <td>31.377862</td>\n",
       "      <td>22 Years and 4 Months</td>\n",
       "      <td>No</td>\n",
       "      <td>49.574949</td>\n",
       "      <td>199.4580743910713</td>\n",
       "      <td>Low_spent_Small_value_payments</td>\n",
       "      <td>223.45130972736786</td>\n",
       "      <td>Good</td>\n",
       "    </tr>\n",
       "    <tr>\n",
       "      <th>4</th>\n",
       "      <td>0x1606</td>\n",
       "      <td>CUS_0xd40</td>\n",
       "      <td>May</td>\n",
       "      <td>Aaron Maashoh</td>\n",
       "      <td>23</td>\n",
       "      <td>821-00-0265</td>\n",
       "      <td>Scientist</td>\n",
       "      <td>19114.12</td>\n",
       "      <td>1824.843333</td>\n",
       "      <td>3</td>\n",
       "      <td>4</td>\n",
       "      <td>3</td>\n",
       "      <td>4</td>\n",
       "      <td>Auto Loan, Credit-Builder Loan, Personal Loan,...</td>\n",
       "      <td>6</td>\n",
       "      <td>NaN</td>\n",
       "      <td>11.27</td>\n",
       "      <td>4.0</td>\n",
       "      <td>Good</td>\n",
       "      <td>809.98</td>\n",
       "      <td>24.797347</td>\n",
       "      <td>22 Years and 5 Months</td>\n",
       "      <td>No</td>\n",
       "      <td>49.574949</td>\n",
       "      <td>41.420153086217326</td>\n",
       "      <td>High_spent_Medium_value_payments</td>\n",
       "      <td>341.48923103222177</td>\n",
       "      <td>Good</td>\n",
       "    </tr>\n",
       "  </tbody>\n",
       "</table>\n",
       "</div>"
      ],
      "text/plain": [
       "       ID Customer_ID     Month           Name   Age          SSN Occupation  \\\n",
       "0  0x1602   CUS_0xd40   January  Aaron Maashoh    23  821-00-0265  Scientist   \n",
       "1  0x1603   CUS_0xd40  February  Aaron Maashoh    23  821-00-0265  Scientist   \n",
       "2  0x1604   CUS_0xd40     March  Aaron Maashoh  -500  821-00-0265  Scientist   \n",
       "3  0x1605   CUS_0xd40     April  Aaron Maashoh    23  821-00-0265  Scientist   \n",
       "4  0x1606   CUS_0xd40       May  Aaron Maashoh    23  821-00-0265  Scientist   \n",
       "\n",
       "  Annual_Income  Monthly_Inhand_Salary  Num_Bank_Accounts  Num_Credit_Card  \\\n",
       "0      19114.12            1824.843333                  3                4   \n",
       "1      19114.12                    NaN                  3                4   \n",
       "2      19114.12                    NaN                  3                4   \n",
       "3      19114.12                    NaN                  3                4   \n",
       "4      19114.12            1824.843333                  3                4   \n",
       "\n",
       "   Interest_Rate Num_of_Loan  \\\n",
       "0              3           4   \n",
       "1              3           4   \n",
       "2              3           4   \n",
       "3              3           4   \n",
       "4              3           4   \n",
       "\n",
       "                                        Type_of_Loan  Delay_from_due_date  \\\n",
       "0  Auto Loan, Credit-Builder Loan, Personal Loan,...                    3   \n",
       "1  Auto Loan, Credit-Builder Loan, Personal Loan,...                   -1   \n",
       "2  Auto Loan, Credit-Builder Loan, Personal Loan,...                    3   \n",
       "3  Auto Loan, Credit-Builder Loan, Personal Loan,...                    5   \n",
       "4  Auto Loan, Credit-Builder Loan, Personal Loan,...                    6   \n",
       "\n",
       "  Num_of_Delayed_Payment Changed_Credit_Limit  Num_Credit_Inquiries  \\\n",
       "0                      7                11.27                   4.0   \n",
       "1                    NaN                11.27                   4.0   \n",
       "2                      7                    _                   4.0   \n",
       "3                      4                 6.27                   4.0   \n",
       "4                    NaN                11.27                   4.0   \n",
       "\n",
       "  Credit_Mix Outstanding_Debt  Credit_Utilization_Ratio  \\\n",
       "0          _           809.98                 26.822620   \n",
       "1       Good           809.98                 31.944960   \n",
       "2       Good           809.98                 28.609352   \n",
       "3       Good           809.98                 31.377862   \n",
       "4       Good           809.98                 24.797347   \n",
       "\n",
       "      Credit_History_Age Payment_of_Min_Amount  Total_EMI_per_month  \\\n",
       "0  22 Years and 1 Months                    No            49.574949   \n",
       "1                    NaN                    No            49.574949   \n",
       "2  22 Years and 3 Months                    No            49.574949   \n",
       "3  22 Years and 4 Months                    No            49.574949   \n",
       "4  22 Years and 5 Months                    No            49.574949   \n",
       "\n",
       "  Amount_invested_monthly                 Payment_Behaviour  \\\n",
       "0       80.41529543900253   High_spent_Small_value_payments   \n",
       "1      118.28022162236736    Low_spent_Large_value_payments   \n",
       "2         81.699521264648   Low_spent_Medium_value_payments   \n",
       "3       199.4580743910713    Low_spent_Small_value_payments   \n",
       "4      41.420153086217326  High_spent_Medium_value_payments   \n",
       "\n",
       "      Monthly_Balance Credit_Score  \n",
       "0  312.49408867943663         Good  \n",
       "1  284.62916249607184         Good  \n",
       "2   331.2098628537912         Good  \n",
       "3  223.45130972736786         Good  \n",
       "4  341.48923103222177         Good  "
      ]
     },
     "execution_count": 3,
     "metadata": {},
     "output_type": "execute_result"
    }
   ],
   "source": [
    "train_df.head(5)"
   ]
  },
  {
   "cell_type": "code",
   "execution_count": 4,
   "id": "c476f28b",
   "metadata": {
    "execution": {
     "iopub.execute_input": "2022-07-23T20:49:00.752075Z",
     "iopub.status.busy": "2022-07-23T20:49:00.751591Z",
     "iopub.status.idle": "2022-07-23T20:49:00.961375Z",
     "shell.execute_reply": "2022-07-23T20:49:00.960141Z"
    },
    "papermill": {
     "duration": 0.225177,
     "end_time": "2022-07-23T20:49:00.965315",
     "exception": false,
     "start_time": "2022-07-23T20:49:00.740138",
     "status": "completed"
    },
    "tags": []
   },
   "outputs": [
    {
     "name": "stdout",
     "output_type": "stream",
     "text": [
      "<class 'pandas.core.frame.DataFrame'>\n",
      "RangeIndex: 100000 entries, 0 to 99999\n",
      "Data columns (total 28 columns):\n",
      " #   Column                    Non-Null Count   Dtype  \n",
      "---  ------                    --------------   -----  \n",
      " 0   ID                        100000 non-null  object \n",
      " 1   Customer_ID               100000 non-null  object \n",
      " 2   Month                     100000 non-null  object \n",
      " 3   Name                      90015 non-null   object \n",
      " 4   Age                       100000 non-null  object \n",
      " 5   SSN                       100000 non-null  object \n",
      " 6   Occupation                100000 non-null  object \n",
      " 7   Annual_Income             100000 non-null  object \n",
      " 8   Monthly_Inhand_Salary     84998 non-null   float64\n",
      " 9   Num_Bank_Accounts         100000 non-null  int64  \n",
      " 10  Num_Credit_Card           100000 non-null  int64  \n",
      " 11  Interest_Rate             100000 non-null  int64  \n",
      " 12  Num_of_Loan               100000 non-null  object \n",
      " 13  Type_of_Loan              88592 non-null   object \n",
      " 14  Delay_from_due_date       100000 non-null  int64  \n",
      " 15  Num_of_Delayed_Payment    92998 non-null   object \n",
      " 16  Changed_Credit_Limit      100000 non-null  object \n",
      " 17  Num_Credit_Inquiries      98035 non-null   float64\n",
      " 18  Credit_Mix                100000 non-null  object \n",
      " 19  Outstanding_Debt          100000 non-null  object \n",
      " 20  Credit_Utilization_Ratio  100000 non-null  float64\n",
      " 21  Credit_History_Age        90970 non-null   object \n",
      " 22  Payment_of_Min_Amount     100000 non-null  object \n",
      " 23  Total_EMI_per_month       100000 non-null  float64\n",
      " 24  Amount_invested_monthly   95521 non-null   object \n",
      " 25  Payment_Behaviour         100000 non-null  object \n",
      " 26  Monthly_Balance           98800 non-null   object \n",
      " 27  Credit_Score              100000 non-null  object \n",
      "dtypes: float64(4), int64(4), object(20)\n",
      "memory usage: 21.4+ MB\n"
     ]
    }
   ],
   "source": [
    "train_df.info()"
   ]
  },
  {
   "cell_type": "code",
   "execution_count": 5,
   "id": "f50d6529",
   "metadata": {
    "execution": {
     "iopub.execute_input": "2022-07-23T20:49:00.988393Z",
     "iopub.status.busy": "2022-07-23T20:49:00.988117Z",
     "iopub.status.idle": "2022-07-23T20:49:01.636779Z",
     "shell.execute_reply": "2022-07-23T20:49:01.635820Z"
    },
    "papermill": {
     "duration": 0.662472,
     "end_time": "2022-07-23T20:49:01.639006",
     "exception": false,
     "start_time": "2022-07-23T20:49:00.976534",
     "status": "completed"
    },
    "tags": []
   },
   "outputs": [
    {
     "data": {
      "text/plain": [
       "<AxesSubplot:>"
      ]
     },
     "execution_count": 5,
     "metadata": {},
     "output_type": "execute_result"
    },
    {
     "data": {
      "image/png": "[encoded data removed]",
      "text/plain": [
       "<Figure size 720x720 with 1 Axes>"
      ]
     },
     "metadata": {},
     "output_type": "display_data"
    }
   ],
   "source": [
    "sns.set(rc={'figure.figsize':(10,10)}, font_scale=0.9)\n",
    "train_df.isna().sum().plot(kind='bar')"
   ]
  },
  {
   "cell_type": "code",
   "execution_count": 6,
   "id": "9161543e",
   "metadata": {
    "execution": {
     "iopub.execute_input": "2022-07-23T20:49:01.662892Z",
     "iopub.status.busy": "2022-07-23T20:49:01.662596Z",
     "iopub.status.idle": "2022-07-23T20:49:02.272885Z",
     "shell.execute_reply": "2022-07-23T20:49:02.271965Z"
    },
    "papermill": {
     "duration": 0.625254,
     "end_time": "2022-07-23T20:49:02.275762",
     "exception": false,
     "start_time": "2022-07-23T20:49:01.650508",
     "status": "completed"
    },
    "tags": []
   },
   "outputs": [
    {
     "data": {
      "text/html": [
       "<div>\n",
       "<style scoped>\n",
       "    .dataframe tbody tr th:only-of-type {\n",
       "        vertical-align: middle;\n",
       "    }\n",
       "\n",
       "    .dataframe tbody tr th {\n",
       "        vertical-align: top;\n",
       "    }\n",
       "\n",
       "    .dataframe thead th {\n",
       "        text-align: right;\n",
       "    }\n",
       "</style>\n",
       "<table border=\"1\" class=\"dataframe\">\n",
       "  <thead>\n",
       "    <tr style=\"text-align: right;\">\n",
       "      <th></th>\n",
       "      <th>count</th>\n",
       "      <th>unique</th>\n",
       "      <th>top</th>\n",
       "      <th>freq</th>\n",
       "    </tr>\n",
       "  </thead>\n",
       "  <tbody>\n",
       "    <tr>\n",
       "      <th>ID</th>\n",
       "      <td>100000</td>\n",
       "      <td>100000</td>\n",
       "      <td>0x1602</td>\n",
       "      <td>1</td>\n",
       "    </tr>\n",
       "    <tr>\n",
       "      <th>Customer_ID</th>\n",
       "      <td>100000</td>\n",
       "      <td>12500</td>\n",
       "      <td>CUS_0xd40</td>\n",
       "      <td>8</td>\n",
       "    </tr>\n",
       "    <tr>\n",
       "      <th>Month</th>\n",
       "      <td>100000</td>\n",
       "      <td>8</td>\n",
       "      <td>January</td>\n",
       "      <td>12500</td>\n",
       "    </tr>\n",
       "    <tr>\n",
       "      <th>Name</th>\n",
       "      <td>90015</td>\n",
       "      <td>10139</td>\n",
       "      <td>Langep</td>\n",
       "      <td>44</td>\n",
       "    </tr>\n",
       "    <tr>\n",
       "      <th>Age</th>\n",
       "      <td>100000</td>\n",
       "      <td>1788</td>\n",
       "      <td>38</td>\n",
       "      <td>2833</td>\n",
       "    </tr>\n",
       "    <tr>\n",
       "      <th>SSN</th>\n",
       "      <td>100000</td>\n",
       "      <td>12501</td>\n",
       "      <td>#F%$D@*&amp;8</td>\n",
       "      <td>5572</td>\n",
       "    </tr>\n",
       "    <tr>\n",
       "      <th>Occupation</th>\n",
       "      <td>100000</td>\n",
       "      <td>16</td>\n",
       "      <td>_______</td>\n",
       "      <td>7062</td>\n",
       "    </tr>\n",
       "    <tr>\n",
       "      <th>Annual_Income</th>\n",
       "      <td>100000</td>\n",
       "      <td>18940</td>\n",
       "      <td>36585.12</td>\n",
       "      <td>16</td>\n",
       "    </tr>\n",
       "    <tr>\n",
       "      <th>Num_of_Loan</th>\n",
       "      <td>100000</td>\n",
       "      <td>434</td>\n",
       "      <td>3</td>\n",
       "      <td>14386</td>\n",
       "    </tr>\n",
       "    <tr>\n",
       "      <th>Type_of_Loan</th>\n",
       "      <td>88592</td>\n",
       "      <td>6260</td>\n",
       "      <td>Not Specified</td>\n",
       "      <td>1408</td>\n",
       "    </tr>\n",
       "    <tr>\n",
       "      <th>Num_of_Delayed_Payment</th>\n",
       "      <td>92998</td>\n",
       "      <td>749</td>\n",
       "      <td>19</td>\n",
       "      <td>5327</td>\n",
       "    </tr>\n",
       "    <tr>\n",
       "      <th>Changed_Credit_Limit</th>\n",
       "      <td>100000</td>\n",
       "      <td>4384</td>\n",
       "      <td>_</td>\n",
       "      <td>2091</td>\n",
       "    </tr>\n",
       "    <tr>\n",
       "      <th>Credit_Mix</th>\n",
       "      <td>100000</td>\n",
       "      <td>4</td>\n",
       "      <td>Standard</td>\n",
       "      <td>36479</td>\n",
       "    </tr>\n",
       "    <tr>\n",
       "      <th>Outstanding_Debt</th>\n",
       "      <td>100000</td>\n",
       "      <td>13178</td>\n",
       "      <td>1360.45</td>\n",
       "      <td>24</td>\n",
       "    </tr>\n",
       "    <tr>\n",
       "      <th>Credit_History_Age</th>\n",
       "      <td>90970</td>\n",
       "      <td>404</td>\n",
       "      <td>15 Years and 11 Months</td>\n",
       "      <td>446</td>\n",
       "    </tr>\n",
       "    <tr>\n",
       "      <th>Payment_of_Min_Amount</th>\n",
       "      <td>100000</td>\n",
       "      <td>3</td>\n",
       "      <td>Yes</td>\n",
       "      <td>52326</td>\n",
       "    </tr>\n",
       "    <tr>\n",
       "      <th>Amount_invested_monthly</th>\n",
       "      <td>95521</td>\n",
       "      <td>91049</td>\n",
       "      <td>__10000__</td>\n",
       "      <td>4305</td>\n",
       "    </tr>\n",
       "    <tr>\n",
       "      <th>Payment_Behaviour</th>\n",
       "      <td>100000</td>\n",
       "      <td>7</td>\n",
       "      <td>Low_spent_Small_value_payments</td>\n",
       "      <td>25513</td>\n",
       "    </tr>\n",
       "    <tr>\n",
       "      <th>Monthly_Balance</th>\n",
       "      <td>98800</td>\n",
       "      <td>98792</td>\n",
       "      <td>__-333333333333333333333333333__</td>\n",
       "      <td>9</td>\n",
       "    </tr>\n",
       "    <tr>\n",
       "      <th>Credit_Score</th>\n",
       "      <td>100000</td>\n",
       "      <td>3</td>\n",
       "      <td>Standard</td>\n",
       "      <td>53174</td>\n",
       "    </tr>\n",
       "  </tbody>\n",
       "</table>\n",
       "</div>"
      ],
      "text/plain": [
       "                          count  unique                               top  \\\n",
       "ID                       100000  100000                            0x1602   \n",
       "Customer_ID              100000   12500                         CUS_0xd40   \n",
       "Month                    100000       8                           January   \n",
       "Name                      90015   10139                            Langep   \n",
       "Age                      100000    1788                                38   \n",
       "SSN                      100000   12501                         #F%$D@*&8   \n",
       "Occupation               100000      16                           _______   \n",
       "Annual_Income            100000   18940                          36585.12   \n",
       "Num_of_Loan              100000     434                                 3   \n",
       "Type_of_Loan              88592    6260                     Not Specified   \n",
       "Num_of_Delayed_Payment    92998     749                                19   \n",
       "Changed_Credit_Limit     100000    4384                                 _   \n",
       "Credit_Mix               100000       4                          Standard   \n",
       "Outstanding_Debt         100000   13178                           1360.45   \n",
       "Credit_History_Age        90970     404            15 Years and 11 Months   \n",
       "Payment_of_Min_Amount    100000       3                               Yes   \n",
       "Amount_invested_monthly   95521   91049                         __10000__   \n",
       "Payment_Behaviour        100000       7    Low_spent_Small_value_payments   \n",
       "Monthly_Balance           98800   98792  __-333333333333333333333333333__   \n",
       "Credit_Score             100000       3                          Standard   \n",
       "\n",
       "                          freq  \n",
       "ID                           1  \n",
       "Customer_ID                  8  \n",
       "Month                    12500  \n",
       "Name                        44  \n",
       "Age                       2833  \n",
       "SSN                       5572  \n",
       "Occupation                7062  \n",
       "Annual_Income               16  \n",
       "Num_of_Loan              14386  \n",
       "Type_of_Loan              1408  \n",
       "Num_of_Delayed_Payment    5327  \n",
       "Changed_Credit_Limit      2091  \n",
       "Credit_Mix               36479  \n",
       "Outstanding_Debt            24  \n",
       "Credit_History_Age         446  \n",
       "Payment_of_Min_Amount    52326  \n",
       "Amount_invested_monthly   4305  \n",
       "Payment_Behaviour        25513  \n",
       "Monthly_Balance              9  \n",
       "Credit_Score             53174  "
      ]
     },
     "execution_count": 6,
     "metadata": {},
     "output_type": "execute_result"
    }
   ],
   "source": [
    "train_df.describe(include='object').T"
   ]
  },
  {
   "cell_type": "code",
   "execution_count": 7,
   "id": "b863818e",
   "metadata": {
    "execution": {
     "iopub.execute_input": "2022-07-23T20:49:02.302091Z",
     "iopub.status.busy": "2022-07-23T20:49:02.300538Z",
     "iopub.status.idle": "2022-07-23T20:49:02.364062Z",
     "shell.execute_reply": "2022-07-23T20:49:02.363017Z"
    },
    "papermill": {
     "duration": 0.078036,
     "end_time": "2022-07-23T20:49:02.366334",
     "exception": false,
     "start_time": "2022-07-23T20:49:02.288298",
     "status": "completed"
    },
    "tags": []
   },
   "outputs": [
    {
     "data": {
      "text/html": [
       "<div>\n",
       "<style scoped>\n",
       "    .dataframe tbody tr th:only-of-type {\n",
       "        vertical-align: middle;\n",
       "    }\n",
       "\n",
       "    .dataframe tbody tr th {\n",
       "        vertical-align: top;\n",
       "    }\n",
       "\n",
       "    .dataframe thead th {\n",
       "        text-align: right;\n",
       "    }\n",
       "</style>\n",
       "<table border=\"1\" class=\"dataframe\">\n",
       "  <thead>\n",
       "    <tr style=\"text-align: right;\">\n",
       "      <th></th>\n",
       "      <th>count</th>\n",
       "      <th>mean</th>\n",
       "      <th>std</th>\n",
       "      <th>min</th>\n",
       "      <th>25%</th>\n",
       "      <th>50%</th>\n",
       "      <th>75%</th>\n",
       "      <th>max</th>\n",
       "    </tr>\n",
       "  </thead>\n",
       "  <tbody>\n",
       "    <tr>\n",
       "      <th>Monthly_Inhand_Salary</th>\n",
       "      <td>84998.0</td>\n",
       "      <td>4194.170850</td>\n",
       "      <td>3183.686167</td>\n",
       "      <td>303.645417</td>\n",
       "      <td>1625.568229</td>\n",
       "      <td>3093.745000</td>\n",
       "      <td>5957.448333</td>\n",
       "      <td>15204.633333</td>\n",
       "    </tr>\n",
       "    <tr>\n",
       "      <th>Num_Bank_Accounts</th>\n",
       "      <td>100000.0</td>\n",
       "      <td>17.091280</td>\n",
       "      <td>117.404834</td>\n",
       "      <td>-1.000000</td>\n",
       "      <td>3.000000</td>\n",
       "      <td>6.000000</td>\n",
       "      <td>7.000000</td>\n",
       "      <td>1798.000000</td>\n",
       "    </tr>\n",
       "    <tr>\n",
       "      <th>Num_Credit_Card</th>\n",
       "      <td>100000.0</td>\n",
       "      <td>22.474430</td>\n",
       "      <td>129.057410</td>\n",
       "      <td>0.000000</td>\n",
       "      <td>4.000000</td>\n",
       "      <td>5.000000</td>\n",
       "      <td>7.000000</td>\n",
       "      <td>1499.000000</td>\n",
       "    </tr>\n",
       "    <tr>\n",
       "      <th>Interest_Rate</th>\n",
       "      <td>100000.0</td>\n",
       "      <td>72.466040</td>\n",
       "      <td>466.422621</td>\n",
       "      <td>1.000000</td>\n",
       "      <td>8.000000</td>\n",
       "      <td>13.000000</td>\n",
       "      <td>20.000000</td>\n",
       "      <td>5797.000000</td>\n",
       "    </tr>\n",
       "    <tr>\n",
       "      <th>Delay_from_due_date</th>\n",
       "      <td>100000.0</td>\n",
       "      <td>21.068780</td>\n",
       "      <td>14.860104</td>\n",
       "      <td>-5.000000</td>\n",
       "      <td>10.000000</td>\n",
       "      <td>18.000000</td>\n",
       "      <td>28.000000</td>\n",
       "      <td>67.000000</td>\n",
       "    </tr>\n",
       "    <tr>\n",
       "      <th>Num_Credit_Inquiries</th>\n",
       "      <td>98035.0</td>\n",
       "      <td>27.754251</td>\n",
       "      <td>193.177339</td>\n",
       "      <td>0.000000</td>\n",
       "      <td>3.000000</td>\n",
       "      <td>6.000000</td>\n",
       "      <td>9.000000</td>\n",
       "      <td>2597.000000</td>\n",
       "    </tr>\n",
       "    <tr>\n",
       "      <th>Credit_Utilization_Ratio</th>\n",
       "      <td>100000.0</td>\n",
       "      <td>32.285173</td>\n",
       "      <td>5.116875</td>\n",
       "      <td>20.000000</td>\n",
       "      <td>28.052567</td>\n",
       "      <td>32.305784</td>\n",
       "      <td>36.496663</td>\n",
       "      <td>50.000000</td>\n",
       "    </tr>\n",
       "    <tr>\n",
       "      <th>Total_EMI_per_month</th>\n",
       "      <td>100000.0</td>\n",
       "      <td>1403.118217</td>\n",
       "      <td>8306.041270</td>\n",
       "      <td>0.000000</td>\n",
       "      <td>30.306660</td>\n",
       "      <td>69.249473</td>\n",
       "      <td>161.224249</td>\n",
       "      <td>82331.000000</td>\n",
       "    </tr>\n",
       "  </tbody>\n",
       "</table>\n",
       "</div>"
      ],
      "text/plain": [
       "                             count         mean          std         min  \\\n",
       "Monthly_Inhand_Salary      84998.0  4194.170850  3183.686167  303.645417   \n",
       "Num_Bank_Accounts         100000.0    17.091280   117.404834   -1.000000   \n",
       "Num_Credit_Card           100000.0    22.474430   129.057410    0.000000   \n",
       "Interest_Rate             100000.0    72.466040   466.422621    1.000000   \n",
       "Delay_from_due_date       100000.0    21.068780    14.860104   -5.000000   \n",
       "Num_Credit_Inquiries       98035.0    27.754251   193.177339    0.000000   \n",
       "Credit_Utilization_Ratio  100000.0    32.285173     5.116875   20.000000   \n",
       "Total_EMI_per_month       100000.0  1403.118217  8306.041270    0.000000   \n",
       "\n",
       "                                  25%          50%          75%           max  \n",
       "Monthly_Inhand_Salary     1625.568229  3093.745000  5957.448333  15204.633333  \n",
       "Num_Bank_Accounts            3.000000     6.000000     7.000000   1798.000000  \n",
       "Num_Credit_Card              4.000000     5.000000     7.000000   1499.000000  \n",
       "Interest_Rate                8.000000    13.000000    20.000000   5797.000000  \n",
       "Delay_from_due_date         10.000000    18.000000    28.000000     67.000000  \n",
       "Num_Credit_Inquiries         3.000000     6.000000     9.000000   2597.000000  \n",
       "Credit_Utilization_Ratio    28.052567    32.305784    36.496663     50.000000  \n",
       "Total_EMI_per_month         30.306660    69.249473   161.224249  82331.000000  "
      ]
     },
     "execution_count": 7,
     "metadata": {},
     "output_type": "execute_result"
    }
   ],
   "source": [
    "train_df.describe().T"
   ]
  },
  {
   "cell_type": "code",
   "execution_count": 8,
   "id": "ae27dc70",
   "metadata": {
    "execution": {
     "iopub.execute_input": "2022-07-23T20:49:02.392427Z",
     "iopub.status.busy": "2022-07-23T20:49:02.392154Z",
     "iopub.status.idle": "2022-07-23T20:49:02.414117Z",
     "shell.execute_reply": "2022-07-23T20:49:02.412978Z"
    },
    "papermill": {
     "duration": 0.037427,
     "end_time": "2022-07-23T20:49:02.416423",
     "exception": false,
     "start_time": "2022-07-23T20:49:02.378996",
     "status": "completed"
    },
    "tags": []
   },
   "outputs": [
    {
     "data": {
      "text/plain": [
       "Standard    0.53174\n",
       "Poor        0.28998\n",
       "Good        0.17828\n",
       "Name: Credit_Score, dtype: float64"
      ]
     },
     "execution_count": 8,
     "metadata": {},
     "output_type": "execute_result"
    }
   ],
   "source": [
    "# check imbalance data \n",
    "train_df['Credit_Score'].value_counts(normalize=True)"
   ]
  },
  {
   "cell_type": "code",
   "execution_count": 9,
   "id": "9f29286c",
   "metadata": {
    "execution": {
     "iopub.execute_input": "2022-07-23T20:49:02.442237Z",
     "iopub.status.busy": "2022-07-23T20:49:02.441964Z",
     "iopub.status.idle": "2022-07-23T20:49:02.726270Z",
     "shell.execute_reply": "2022-07-23T20:49:02.725399Z"
    },
    "papermill": {
     "duration": 0.299241,
     "end_time": "2022-07-23T20:49:02.728448",
     "exception": false,
     "start_time": "2022-07-23T20:49:02.429207",
     "status": "completed"
    },
    "tags": []
   },
   "outputs": [
    {
     "data": {
      "text/plain": [
       "<AxesSubplot:xlabel='Credit_Score', ylabel='count'>"
      ]
     },
     "execution_count": 9,
     "metadata": {},
     "output_type": "execute_result"
    },
    {
     "data": {
      "image/png": "[encoded data removed]",
      "text/plain": [
       "<Figure size 720x720 with 1 Axes>"
      ]
     },
     "metadata": {},
     "output_type": "display_data"
    }
   ],
   "source": [
    "sns.countplot(x=train_df['Credit_Score'])"
   ]
  },
  {
   "cell_type": "code",
   "execution_count": 10,
   "id": "a4555013",
   "metadata": {
    "execution": {
     "iopub.execute_input": "2022-07-23T20:49:02.754170Z",
     "iopub.status.busy": "2022-07-23T20:49:02.753900Z",
     "iopub.status.idle": "2022-07-23T20:49:02.952680Z",
     "shell.execute_reply": "2022-07-23T20:49:02.951708Z"
    },
    "papermill": {
     "duration": 0.217508,
     "end_time": "2022-07-23T20:49:02.958221",
     "exception": false,
     "start_time": "2022-07-23T20:49:02.740713",
     "status": "completed"
    },
    "tags": []
   },
   "outputs": [
    {
     "name": "stdout",
     "output_type": "stream",
     "text": [
      "ID\n",
      "['0x1602' '0x1603' '0x1604' ... '0x25feb' '0x25fec' '0x25fed']\n",
      "======\n",
      "Customer_ID\n",
      "['CUS_0xd40' 'CUS_0x21b1' 'CUS_0x2dbc' ... 'CUS_0xaf61' 'CUS_0x8600'\n",
      " 'CUS_0x942c']\n",
      "======\n",
      "Month\n",
      "['January' 'February' 'March' 'April' 'May' 'June' 'July' 'August']\n",
      "======\n",
      "Name\n",
      "['Aaron Maashoh' nan 'Rick Rothackerj' ... 'Chris Wickhamm'\n",
      " 'Sarah McBridec' 'Nicks']\n",
      "======\n",
      "Age\n",
      "['23' '-500' '28_' ... '4808_' '2263' '1342']\n",
      "======\n",
      "SSN\n",
      "['821-00-0265' '#F%$D@*&8' '004-07-5839' ... '133-16-7738' '031-35-0942'\n",
      " '078-73-5990']\n",
      "======\n",
      "Occupation\n",
      "['Scientist' '_______' 'Teacher' 'Engineer' 'Entrepreneur' 'Developer'\n",
      " 'Lawyer' 'Media_Manager' 'Doctor' 'Journalist' 'Manager' 'Accountant'\n",
      " 'Musician' 'Mechanic' 'Writer' 'Architect']\n",
      "======\n",
      "Annual_Income\n",
      "['19114.12' '34847.84' '34847.84_' ... '20002.88' '39628.99' '39628.99_']\n",
      "======\n",
      "Monthly_Inhand_Salary\n",
      "[1824.84333333           nan 3037.98666667 ... 3097.00833333 1929.90666667\n",
      " 3359.41583333]\n",
      "======\n",
      "Num_Bank_Accounts\n",
      "[   3    2    1    7    4    0    8    5    6    9   10 1414 1231   67\n",
      "  572 1488   91  528 1647 1696 1338  649  889 1668  685  857  975 1496\n",
      " 1534 1620   37 1388 1429 1332 1588  120 1777 1096  803  494  744 1139\n",
      "  831 1613  741  121  665 1748 1644  823 1356 1651   87  711  450  210\n",
      " 1671 1722  648  672 1662 1495  510  666  429 1131 1434  980 1026  526\n",
      "  718 1300 1312 1315  501 1566  480 1042  322  628 1016  333 1265  791\n",
      "  427  563  905 1190 1036 1611   38  619  555 1769  280  752 1201  812\n",
      " 1487  222  212 1019 1222  610 1714 1308  525 1158 1115 1616  754 1601\n",
      "  797 1577  521  703  933  959  809 1089 1656 1113 1715  964 1533 1789\n",
      "  871  434 1295  565 1724  603  677  541  698 1101  464 1539 1462 1011\n",
      " 1257 1727   45  244 1266  897  535  484  331  675  826  946 1675  105\n",
      " 1327  845  549  473  710  527  908   68 1628  371  445 1168  868  687\n",
      "  455 1003   26 1526  618  598  351 1342 1783  683 1557 1335  416 1747\n",
      "  137 1475  373  338  942  170  973 1605 1478  386 1448 1033 1225  596\n",
      " 1731 1214 1481 1105  580  347  108  148 1001 1467 1114 1000  632  246\n",
      " 1032 1394  689  482 1303  720  574  588 1358  650  708  179  844 1140\n",
      "  335   60  732 1494 1436  820   28 1576  818  794  731  534  556  691\n",
      " 1197 1155 1255 1763  769 1124  819  318 1418  882   61  264  194 1798\n",
      "  611  840  505 1110  719 1065  195  584  550 1014 1022  903  976   31\n",
      "  417 1423 1148  616  786 1424   55 1061 1293  342   43 1540  488 1122\n",
      " 1274 1075  722 1268   41  814 1564 1390 1141  497  224 1135  441  374\n",
      "   74  314 1408  475 1015  681 1236   59 1425 1637 1240  299 1657 1123\n",
      " 1091 1264 1561 1632 1562  305 1318 1217 1699 1070  864 1391  112  860\n",
      "  595  229 1624 1051  821 1794 1565  397 1368 1353  508 1725 1413 1239\n",
      "  847 1317  570   -1  302  456  198  122  832  167 1547 1666 1241  275\n",
      "  566 1779  201  334 1169  834 1174 1040  530 1676 1468 1093  706  489\n",
      " 1592  688  830 1784 1543 1600 1178  228  483 1501  950  548  870 1211\n",
      "  604  804  129  540 1702 1636 1680 1443 1252  499  180  702  885 1652\n",
      "  795  938  833 1654 1793  303 1621 1516 1138   32  160 1491   83  423\n",
      "  928  339  931  243 1756  583 1695  274  955  430 1247  490  726  987\n",
      "   42 1626 1470 1739  887  211  385 1221  753  324  406 1677 1567  785\n",
      "  182 1079  184 1771 1048 1069  561  589 1634   70 1371  647 1153  239\n",
      "  801 1279 1287  425 1589  929 1511 1765 1047 1005 1337  981 1766  805\n",
      " 1574 1638  186   99  288 1650  974  996 1595 1594  865  203 1440  448\n",
      "  285   94  875  916 1733  240  330   79   82  135 1043  142 1235 1569\n",
      " 1741 1461  560 1551  409  418 1017  892  354  124  935  313 1363  232\n",
      " 1200 1184 1432 1479 1407 1080 1719 1024  970  761  158  312 1060  684\n",
      "  696 1520 1352 1502  936  485  350 1560 1166 1013   34 1691  715 1570\n",
      " 1751 1503 1194 1558  411  298  260  308  796 1442  912 1256  746  435\n",
      "  620 1774 1181 1323  837  307 1430   53 1447  259  921  328 1034  353\n",
      "  822  654  829  609  166  136  172 1306 1028  808  270 1072  514  156\n",
      " 1331 1630  462 1310 1210  265   50 1355  394 1393  226  991  368 1018\n",
      " 1037  627 1744  523  894  944 1730 1076 1094 1617  449  678 1164   30\n",
      "  817 1568  607  709 1230  606 1480   29 1522 1670   49  626 1641 1712\n",
      " 1370 1782  119 1137 1277   35  947  851 1041 1583 1536  575  196  143\n",
      "   33  383   57  621  230  162  352 1504 1250   39  511 1364  918 1665\n",
      "  734 1320  316  771  705 1435  304  116 1553  424  493 1530 1195 1604\n",
      "  624 1599  782 1606 1622 1285  657 1275 1291 1402  420  932  468  442\n",
      " 1145   93 1218  283  292  927 1711 1422  364 1398  594  789 1350  676\n",
      "  216 1012 1426  717 1095 1786  850  777  375  356  701 1325  290 1775\n",
      "  467 1365 1549  848 1453   84 1458  888  770 1591  582   40 1261 1764\n",
      " 1067  145  471  476 1128  967  622  641  539  858  295 1395 1517 1297\n",
      " 1126  926  157 1377  993  125  340  271 1669  272  979  707  564  997\n",
      "  447 1578 1465  415  714 1276   18 1316  587  245  446  978 1002 1631\n",
      "  341 1307  524 1267  103  242 1378 1328 1294 1309  724  197  999  547\n",
      " 1100 1456   77 1506 1472  460   11 1420  218 1253  392  670 1321  100\n",
      " 1205  443   92  811  774  159 1770  972 1157 1102  217  358 1473  440\n",
      "  140 1361  481  512 1117  300 1263 1581  901 1298  310  637  758 1734\n",
      " 1288  326 1678 1444 1344 1379  828  982  104  317 1529 1627  115  645\n",
      " 1404  940 1305 1049 1645 1466  175 1165 1419 1031  581 1580  854  725\n",
      " 1655 1134  569 1387 1381 1760  360 1735 1146 1411  969 1281  591  327\n",
      "  466  667  147  109  784 1396 1349  839 1284  802   97  281 1382 1039\n",
      " 1483  376 1249 1207 1213 1219 1345 1523  949 1063  983  886 1151  992\n",
      " 1107 1314  151   69 1489  695  738  444 1525  825  506  518 1077 1354\n",
      "  713  690  861 1389  968  421  907  205  856   72  651  161  867  971\n",
      " 1078   64 1701  546 1216   27 1709  193 1528  957  577  346 1416  396\n",
      " 1182  652 1083 1778  680 1754 1544 1703  636  472  453  463   75  756\n",
      "  296  891  813  474  697]\n",
      "======\n",
      "Num_Credit_Card\n",
      "[   4 1385    5 ...  955 1430  679]\n",
      "======\n",
      "Interest_Rate\n",
      "[   3    6    8 ... 1347  387 5729]\n",
      "======\n",
      "Num_of_Loan\n",
      "['4' '1' '3' '967' '-100' '0' '0_' '2' '3_' '2_' '7' '5' '5_' '6' '8' '8_'\n",
      " '9' '9_' '4_' '7_' '1_' '1464' '6_' '622' '352' '472' '1017' '945' '146'\n",
      " '563' '341' '444' '720' '1485' '49' '737' '1106' '466' '728' '313' '843'\n",
      " '597_' '617' '119' '663' '640' '92_' '1019' '501' '1302' '39' '716' '848'\n",
      " '931' '1214' '186' '424' '1001' '1110' '1152' '457' '1433' '1187' '52'\n",
      " '1480' '1047' '1035' '1347_' '33' '193' '699' '329' '1451' '484' '132'\n",
      " '649' '995' '545' '684' '1135' '1094' '1204' '654' '58' '348' '614'\n",
      " '1363' '323' '1406' '1348' '430' '153' '1461' '905' '1312' '1424' '1154'\n",
      " '95' '1353' '1228' '819' '1006' '795' '359' '1209' '590' '696' '1185_'\n",
      " '1465' '911' '1181' '70' '816' '1369' '143' '1416' '455' '55' '1096'\n",
      " '1474' '420' '1131' '904' '89' '1259' '527' '1241' '449' '983' '418'\n",
      " '319' '23' '238' '638' '138' '235_' '280' '1070' '1484' '274' '494'\n",
      " '1459_' '404' '1354' '1495' '1391' '601' '1313' '1319' '898' '231' '752'\n",
      " '174' '961' '1046' '834' '284' '438' '288' '1463' '1151' '719' '198'\n",
      " '1015' '855' '841' '392' '1444' '103' '1320_' '745' '172' '252' '630_'\n",
      " '241' '31' '405' '1217' '1030' '1257' '137' '157' '164' '1088' '1236'\n",
      " '777' '1048' '613' '330' '1439' '321' '661' '952' '939' '562' '1202'\n",
      " '302' '943' '394' '955' '1318' '936' '781' '100' '1329' '1365' '860'\n",
      " '217' '191' '32' '282' '351' '1387' '757' '416' '833' '359_' '292'\n",
      " '1225_' '1227' '639' '859' '243' '267' '510' '332' '996' '597' '311'\n",
      " '492' '820' '336' '123' '540' '131_' '1311_' '1441' '895' '891' '50'\n",
      " '940' '935' '596' '29' '1182' '1129_' '1014' '251' '365' '291' '1447'\n",
      " '742' '1085' '148' '462' '832' '881' '1225' '1412' '785_' '1127' '910'\n",
      " '538' '999' '733' '101' '237' '87' '659' '633' '387' '447' '629' '831'\n",
      " '1384' '773' '621' '1419' '289' '143_' '285' '1393' '1131_' '27_' '1359'\n",
      " '1482' '1189' '1294' '201' '579' '814' '141' '1320' '581' '1171_' '295'\n",
      " '290' '433' '679' '1040' '1054' '1430' '1023' '1077' '1457' '1150' '701'\n",
      " '1382' '889' '437' '372' '1222' '126' '1159' '868' '19' '1297' '227_'\n",
      " '190' '809' '1216' '1074' '571' '520' '1274' '1340' '991' '316' '697'\n",
      " '926' '873' '1002' '378_' '65' '875' '867' '548' '652' '1372' '606'\n",
      " '1036' '1300' '17' '1178' '802' '1219_' '1271' '1137' '1496' '439' '196'\n",
      " '636' '192' '228' '1053' '229' '753' '1296' '1371' '254' '863' '464'\n",
      " '515' '838' '1160' '1289' '1298' '799' '182' '574' '527_' '242' '415'\n",
      " '869' '958' '54' '1265' '656' '275' '778' '208' '147' '350' '507' '463'\n",
      " '497' '1129' '927' '653' '662' '529' '635' '1027_' '897' '1039' '227'\n",
      " '1345' '924' '696_' '1279' '546' '1112' '1210' '526' '300' '1103' '504'\n",
      " '136' '1400' '78' '686' '1091' '344' '215' '84' '628' '1470' '968' '1478'\n",
      " '83' '1196' '1307' '1132_' '1008' '917' '657' '56' '18' '41' '801' '978'\n",
      " '216' '349' '966']\n",
      "======\n",
      "Type_of_Loan\n",
      "['Auto Loan, Credit-Builder Loan, Personal Loan, and Home Equity Loan'\n",
      " 'Credit-Builder Loan' 'Auto Loan, Auto Loan, and Not Specified' ...\n",
      " 'Home Equity Loan, Auto Loan, Auto Loan, and Auto Loan'\n",
      " 'Payday Loan, Student Loan, Mortgage Loan, and Not Specified'\n",
      " 'Personal Loan, Auto Loan, Mortgage Loan, Student Loan, and Student Loan']\n",
      "======\n",
      "Delay_from_due_date\n",
      "[ 3 -1  5  6  8  7 13 10  0  4  9  1 12 11 30 31 34 27 14  2 -2 16 17 15\n",
      " 23 22 21 18 19 52 51 48 53 26 43 28 25 20 47 46 49 24 61 29 50 58 45 59\n",
      " 55 56 57 54 62 65 64 67 36 41 33 32 39 44 42 60 35 38 -3 63 40 37 -5 -4\n",
      " 66]\n",
      "======\n",
      "Num_of_Delayed_Payment\n",
      "['7' nan '4' '8_' '6' '1' '-1' '3_' '0' '8' '5' '3' '9' '12' '15' '17'\n",
      " '10' '2' '2_' '11' '14' '20' '22' '13' '13_' '14_' '16' '12_' '18' '19'\n",
      " '23' '24' '21' '3318' '3083' '22_' '1338' '4_' '26' '11_' '3104' '21_'\n",
      " '25' '10_' '183_' '9_' '1106' '834' '19_' '24_' '17_' '23_' '2672' '20_'\n",
      " '2008' '-3' '538' '6_' '1_' '16_' '27' '-2' '3478' '2420' '15_' '707'\n",
      " '708' '26_' '18_' '3815' '28' '5_' '1867' '2250' '1463' '25_' '7_' '4126'\n",
      " '2882' '1941' '2655' '2628' '132' '3069' '306' '0_' '3539' '3684' '1823'\n",
      " '4128' '1946' '827' '2297' '2566' '904' '182' '929' '3568' '2503' '1552'\n",
      " '2812' '1697' '3764' '851' '3905' '923' '88' '1668' '3253' '808' '2689'\n",
      " '3858' '642' '3457' '1402' '1732' '3154' '847' '3037' '2204' '3103'\n",
      " '1063' '2056' '1282' '1841' '2569_' '211' '793' '3484' '411' '3491'\n",
      " '2072' '3050' '1049' '2162' '3402' '2753' '27_' '1718' '1014' '3260'\n",
      " '3855' '84' '2311' '3251' '1832' '4069' '3010' '733' '4241' '166' '2461'\n",
      " '1749' '3200' '663_' '2185' '4161' '3009' '359' '2015' '1523' '594'\n",
      " '1079' '1199' '186' '1015' '1989' '281' '559' '2165' '1509' '3545' '779'\n",
      " '192' '4311' '-2_' '2323' '1471' '1538' '3529' '439' '3456' '3040' '2697'\n",
      " '3179' '1332' '3175' '3112' '829' '4022' '3870' '4023' '531' '1511'\n",
      " '3092' '3191' '2400' '3621' '3536' '544' '1864' '28_' '142' '2300' '264'\n",
      " '72' '497' '398' '2222' '3960' '1473' '3043' '4216' '2903' '2658' '-1_'\n",
      " '4042' '1323_' '2184' '921' '1328' '3404' '2438' '809' '47' '1996' '4164'\n",
      " '1370' '1204' '2167' '4011' '2590' '2594' '2533' '1663' '1018' '2919'\n",
      " '3458' '3316' '2589' '2801' '3355' '2529' '2488' '4266' '1243' '739'\n",
      " '845' '4107' '1884' '337' '2660' '290' '674' '2450' '3738' '1792' '2823'\n",
      " '2570' '775' '960' '482' '1706' '2493' '3623' '3031' '2794_' '2219_'\n",
      " '758_' '1849' '3559' '4096' '3726' '1953' '2657' '4043' '2938' '4384'\n",
      " '1647' '2694' '3533' '519' '2677' '2413' '-3_' '4139' '2609' '4326'\n",
      " '4211' '823' '3011' '1608' '2860' '4219' '4047' '1531' '742' '52' '4024'\n",
      " '1673' '49' '2243' '1685' '1869' '2587' '3489' '749' '1164' '2616' '848_'\n",
      " '4134' '1530' '1502' '4075' '3845' '1060' '2573' '2128' '328' '640'\n",
      " '2585' '2230' '1795' '1180' '1534' '3739' '3313' '4191' '996' '372'\n",
      " '3340' '3177' '602' '787' '4135' '3878' '4059' '1218' '4051' '1766'\n",
      " '1359' '3107' '585' '1263' '2511' '709' '3632' '4077' '2943' '2793'\n",
      " '3245' '2317' '1640' '2237_' '3819' '252' '3978' '1498' '1833' '2737'\n",
      " '1192' '1481' '700' '271' '2286' '273' '1215' '3944' '2070' '1478' '3749'\n",
      " '871' '2508' '2959' '130' '294' '3097_' '3511' '415' '2196' '2138' '2149'\n",
      " '1874' '1553' '3847' '3222' '1222' '2907' '3051' '98' '1598' '416' '2314'\n",
      " '2955' '1691' '1450' '2021' '1636' '80' '3708' '195' '320' '2945' '1911'\n",
      " '3416' '3796' '4159' '2255' '938' '4397' '3776' '2148' '1994' '853'\n",
      " '1178' '1633' '196' '3864' '714' '1687' '1034' '468' '1337' '2044' '1541'\n",
      " '3661' '1211' '2645' '2007' '102' '1891' '3162' '3142' '2566_' '2766'\n",
      " '3881' '2728' '2671' '1952' '3580' '2705' '4251' '3840_' '972' '3119'\n",
      " '3502' '4185' '2954' '683' '1614' '1572' '4302' '3447' '1852' '2131'\n",
      " '1900' '1699' '133' '2018' '2127' '508' '210' '577' '1664' '2604' '1411'\n",
      " '2351' '867' '1371' '2352' '1191' '905' '4053' '3869' '933' '3660' '3300'\n",
      " '3629' '3208' '2142' '2521' '450' '583' '876' '121' '3919' '2560' '2578'\n",
      " '2060' '813' '1236' '1489' '4360' '1154' '2544' '4172' '2924' '426'\n",
      " '4270' '2768' '3909' '3951' '2712' '2498' '3171' '1750' '197' '2569'\n",
      " '265' '4293' '887' '2707' '2397' '4337' '4249' '2751' '2950' '1859' '107'\n",
      " '2348' '2506' '2810' '2873' '1301' '2262' '1890' '3078' '3865' '3268'\n",
      " '2777' '3105' '1278' '3793' '2276' '2879' '4298' '2141' '223' '2239'\n",
      " '846' '1862' '2756' '1181' '1184' '2617' '3972' '2334' '3900' '2759'\n",
      " '4169' '2280' '2492' '2729' '3750' '1825' '309' '2431' '3099' '2080'\n",
      " '2279' '2666' '3722' '1976' '529' '1985' '3060' '4278' '3212' '46' '3148'\n",
      " '3467' '4231' '3790' '473' '1536' '3955' '2324' '2381' '1177' '371'\n",
      " '2896' '3880' '2991' '4319' '1061' '662' '4144' '693' '2006' '3115'\n",
      " '2278_' '3751' '1861' '4262' '2913' '2615' '3492' '800' '3766' '384'\n",
      " '3407' '1087' '3329' '1086' '2216' '1087_' '2457' '3522' '3274' '3488'\n",
      " '2854' '238' '351' '3706' '4280' '4095' '2926' '1329' '3370' '283' '1392'\n",
      " '1743' '2429' '974' '3156' '1133' '4388' '3243' '4282' '2523' '4281'\n",
      " '3415' '2001' '441' '94' '3499' '969' '3368' '106' '1004' '2638' '3946'\n",
      " '2956' '4324' '85' '4113' '819' '615' '1172' '2553' '1765' '3495' '2820'\n",
      " '4239' '4340' '1295_' '2636' '4295' '1653' '1325' '1879' '1096' '1735'\n",
      " '3584' '1073' '1975' '3827' '2552' '3754' '2378' '532' '926' '2376'\n",
      " '3636' '3763' '778' '2621' '804' '754' '2418' '4019' '3926' '3861_'\n",
      " '3574' '175' '162' '2834' '3765' '2354' '523' '2274' '1606' '1443' '1354'\n",
      " '2142_' '1422' '2278' '1045' '4106' '3155' '666' '659' '3229' '1216'\n",
      " '2076' '1473_' '2384' '1954' '719' '2534' '4002' '541' '2875' '4344'\n",
      " '2081' '3894' '1256' '676' '4178' '399' '86' '1571' '4037' '1967' '4005'\n",
      " '3216' '1150' '2591' '1801' '3721' '1775' '2260' '3707' '4292' '1820'\n",
      " '145' '1480' '1850' '430' '217' '3920_' '1389' '1579' '3391' '2385'\n",
      " '3336' '3392' '3688' '221' '2047']\n",
      "======\n",
      "Changed_Credit_Limit\n",
      "['11.27' '_' '6.27' ... '17.509999999999998' '25.16' '21.17']\n",
      "======\n",
      "Num_Credit_Inquiries\n",
      "[   4.    2.    3. ... 1361.  310.   74.]\n",
      "======\n",
      "Credit_Mix\n",
      "['_' 'Good' 'Standard' 'Bad']\n",
      "======\n",
      "Outstanding_Debt\n",
      "['809.98' '605.03' '1303.01' ... '3571.7_' '3571.7' '502.38']\n",
      "======\n",
      "Credit_Utilization_Ratio\n",
      "[26.82261962 31.94496006 28.60935202 ... 41.25552226 33.63820798\n",
      " 34.19246265]\n",
      "======\n",
      "Credit_History_Age\n",
      "['22 Years and 1 Months' nan '22 Years and 3 Months'\n",
      " '22 Years and 4 Months' '22 Years and 5 Months' '22 Years and 6 Months'\n",
      " '22 Years and 7 Months' '26 Years and 7 Months' '26 Years and 8 Months'\n",
      " '26 Years and 9 Months' '26 Years and 10 Months' '26 Years and 11 Months'\n",
      " '27 Years and 0 Months' '27 Years and 1 Months' '27 Years and 2 Months'\n",
      " '17 Years and 9 Months' '17 Years and 10 Months' '17 Years and 11 Months'\n",
      " '18 Years and 1 Months' '18 Years and 2 Months' '18 Years and 3 Months'\n",
      " '18 Years and 4 Months' '17 Years and 3 Months' '17 Years and 4 Months'\n",
      " '17 Years and 5 Months' '17 Years and 6 Months' '17 Years and 7 Months'\n",
      " '17 Years and 8 Months' '30 Years and 8 Months' '30 Years and 9 Months'\n",
      " '30 Years and 10 Months' '30 Years and 11 Months' '31 Years and 0 Months'\n",
      " '31 Years and 1 Months' '31 Years and 2 Months' '31 Years and 3 Months'\n",
      " '32 Years and 0 Months' '32 Years and 2 Months' '32 Years and 3 Months'\n",
      " '32 Years and 5 Months' '32 Years and 6 Months' '30 Years and 7 Months'\n",
      " '14 Years and 8 Months' '14 Years and 9 Months' '14 Years and 10 Months'\n",
      " '14 Years and 11 Months' '15 Years and 0 Months' '15 Years and 1 Months'\n",
      " '15 Years and 2 Months' '21 Years and 4 Months' '21 Years and 5 Months'\n",
      " '21 Years and 6 Months' '21 Years and 7 Months' '21 Years and 8 Months'\n",
      " '21 Years and 9 Months' '21 Years and 10 Months' '21 Years and 11 Months'\n",
      " '26 Years and 6 Months' '19 Years and 2 Months' '19 Years and 3 Months'\n",
      " '19 Years and 4 Months' '19 Years and 5 Months' '19 Years and 6 Months'\n",
      " '19 Years and 7 Months' '19 Years and 8 Months' '25 Years and 5 Months'\n",
      " '25 Years and 6 Months' '25 Years and 7 Months' '25 Years and 8 Months'\n",
      " '25 Years and 9 Months' '25 Years and 10 Months' '25 Years and 11 Months'\n",
      " '26 Years and 0 Months' '27 Years and 3 Months' '27 Years and 4 Months'\n",
      " '27 Years and 5 Months' '8 Years and 11 Months' '9 Years and 0 Months'\n",
      " '9 Years and 1 Months' '9 Years and 2 Months' '9 Years and 3 Months'\n",
      " '9 Years and 4 Months' '9 Years and 6 Months' '18 Years and 5 Months'\n",
      " '18 Years and 6 Months' '18 Years and 8 Months' '18 Years and 9 Months'\n",
      " '16 Years and 10 Months' '16 Years and 11 Months' '17 Years and 0 Months'\n",
      " '17 Years and 1 Months' '17 Years and 2 Months' '29 Years and 2 Months'\n",
      " '29 Years and 3 Months' '29 Years and 4 Months' '29 Years and 6 Months'\n",
      " '29 Years and 8 Months' '29 Years and 9 Months' '6 Years and 5 Months'\n",
      " '6 Years and 6 Months' '6 Years and 7 Months' '6 Years and 8 Months'\n",
      " '6 Years and 9 Months' '6 Years and 10 Months' '6 Years and 11 Months'\n",
      " '7 Years and 0 Months' '27 Years and 6 Months' '27 Years and 7 Months'\n",
      " '27 Years and 8 Months' '27 Years and 9 Months' '18 Years and 7 Months'\n",
      " '19 Years and 9 Months' '19 Years and 10 Months' '10 Years and 1 Months'\n",
      " '10 Years and 2 Months' '10 Years and 3 Months' '10 Years and 4 Months'\n",
      " '10 Years and 5 Months' '10 Years and 6 Months' '10 Years and 7 Months'\n",
      " '10 Years and 8 Months' '32 Years and 9 Months' '32 Years and 10 Months'\n",
      " '32 Years and 11 Months' '33 Years and 0 Months' '33 Years and 1 Months'\n",
      " '33 Years and 4 Months' '12 Years and 3 Months' '12 Years and 4 Months'\n",
      " '12 Years and 5 Months' '12 Years and 6 Months' '12 Years and 7 Months'\n",
      " '12 Years and 8 Months' '12 Years and 10 Months' '12 Years and 9 Months'\n",
      " '13 Years and 8 Months' '13 Years and 11 Months' '14 Years and 0 Months'\n",
      " '14 Years and 1 Months' '14 Years and 2 Months' '14 Years and 3 Months'\n",
      " '30 Years and 3 Months' '30 Years and 4 Months' '30 Years and 5 Months'\n",
      " '30 Years and 6 Months' '8 Years and 9 Months' '8 Years and 10 Months'\n",
      " '18 Years and 10 Months' '18 Years and 11 Months' '19 Years and 0 Months'\n",
      " '19 Years and 1 Months' '8 Years and 8 Months' '13 Years and 1 Months'\n",
      " '13 Years and 2 Months' '13 Years and 3 Months' '13 Years and 5 Months'\n",
      " '13 Years and 6 Months' '13 Years and 7 Months' '22 Years and 0 Months'\n",
      " '26 Years and 1 Months' '26 Years and 2 Months' '13 Years and 4 Months'\n",
      " '13 Years and 9 Months' '27 Years and 11 Months' '28 Years and 0 Months'\n",
      " '28 Years and 1 Months' '28 Years and 2 Months' '28 Years and 3 Months'\n",
      " '28 Years and 4 Months' '28 Years and 5 Months' '28 Years and 6 Months'\n",
      " '7 Years and 10 Months' '7 Years and 11 Months' '8 Years and 0 Months'\n",
      " '8 Years and 1 Months' '8 Years and 2 Months' '8 Years and 3 Months'\n",
      " '8 Years and 4 Months' '8 Years and 5 Months' '24 Years and 3 Months'\n",
      " '24 Years and 4 Months' '24 Years and 5 Months' '24 Years and 6 Months'\n",
      " '24 Years and 7 Months' '24 Years and 8 Months' '24 Years and 9 Months'\n",
      " '1 Years and 2 Months' '1 Years and 3 Months' '1 Years and 4 Months'\n",
      " '1 Years and 5 Months' '1 Years and 6 Months' '1 Years and 7 Months'\n",
      " '1 Years and 8 Months' '10 Years and 11 Months' '11 Years and 0 Months'\n",
      " '11 Years and 1 Months' '11 Years and 2 Months' '11 Years and 3 Months'\n",
      " '11 Years and 4 Months' '11 Years and 5 Months' '11 Years and 6 Months'\n",
      " '19 Years and 11 Months' '20 Years and 0 Months' '20 Years and 1 Months'\n",
      " '10 Years and 9 Months' '10 Years and 10 Months' '14 Years and 4 Months'\n",
      " '14 Years and 5 Months' '14 Years and 6 Months' '20 Years and 8 Months'\n",
      " '20 Years and 9 Months' '20 Years and 10 Months' '20 Years and 11 Months'\n",
      " '21 Years and 0 Months' '21 Years and 1 Months' '21 Years and 2 Months'\n",
      " '21 Years and 3 Months' '0 Years and 4 Months' '0 Years and 5 Months'\n",
      " '0 Years and 6 Months' '0 Years and 8 Months' '0 Years and 9 Months'\n",
      " '0 Years and 10 Months' '31 Years and 7 Months' '31 Years and 8 Months'\n",
      " '31 Years and 9 Months' '31 Years and 10 Months' '31 Years and 11 Months'\n",
      " '32 Years and 1 Months' '12 Years and 11 Months' '13 Years and 0 Months'\n",
      " '27 Years and 10 Months' '11 Years and 7 Months' '11 Years and 8 Months'\n",
      " '11 Years and 9 Months' '11 Years and 10 Months' '24 Years and 10 Months'\n",
      " '24 Years and 11 Months' '25 Years and 0 Months' '25 Years and 1 Months'\n",
      " '25 Years and 2 Months' '25 Years and 3 Months' '18 Years and 0 Months'\n",
      " '31 Years and 4 Months' '31 Years and 5 Months' '31 Years and 6 Months'\n",
      " '5 Years and 2 Months' '5 Years and 3 Months' '5 Years and 4 Months'\n",
      " '5 Years and 5 Months' '5 Years and 6 Months' '5 Years and 7 Months'\n",
      " '5 Years and 8 Months' '5 Years and 9 Months' '2 Years and 11 Months'\n",
      " '3 Years and 0 Months' '3 Years and 1 Months' '3 Years and 2 Months'\n",
      " '3 Years and 3 Months' '3 Years and 4 Months' '3 Years and 5 Months'\n",
      " '3 Years and 6 Months' '16 Years and 4 Months' '16 Years and 5 Months'\n",
      " '16 Years and 6 Months' '16 Years and 7 Months' '16 Years and 8 Months'\n",
      " '16 Years and 9 Months' '22 Years and 11 Months' '23 Years and 0 Months'\n",
      " '23 Years and 2 Months' '23 Years and 3 Months' '23 Years and 4 Months'\n",
      " '23 Years and 5 Months' '23 Years and 6 Months' '8 Years and 6 Months'\n",
      " '8 Years and 7 Months' '4 Years and 5 Months' '4 Years and 6 Months'\n",
      " '4 Years and 7 Months' '4 Years and 8 Months' '4 Years and 9 Months'\n",
      " '4 Years and 10 Months' '4 Years and 11 Months' '5 Years and 0 Months'\n",
      " '32 Years and 8 Months' '33 Years and 2 Months' '33 Years and 3 Months'\n",
      " '12 Years and 2 Months' '32 Years and 4 Months' '29 Years and 11 Months'\n",
      " '30 Years and 0 Months' '30 Years and 2 Months' '26 Years and 3 Months'\n",
      " '26 Years and 4 Months' '26 Years and 5 Months' '7 Years and 6 Months'\n",
      " '7 Years and 7 Months' '7 Years and 8 Months' '7 Years and 9 Months'\n",
      " '28 Years and 7 Months' '28 Years and 8 Months' '28 Years and 9 Months'\n",
      " '28 Years and 10 Months' '29 Years and 5 Months' '29 Years and 7 Months'\n",
      " '20 Years and 2 Months' '20 Years and 3 Months' '20 Years and 4 Months'\n",
      " '20 Years and 5 Months' '20 Years and 6 Months' '20 Years and 7 Months'\n",
      " '28 Years and 11 Months' '29 Years and 0 Months' '13 Years and 10 Months'\n",
      " '1 Years and 9 Months' '1 Years and 10 Months' '1 Years and 11 Months'\n",
      " '33 Years and 5 Months' '33 Years and 6 Months' '33 Years and 7 Months'\n",
      " '33 Years and 8 Months' '29 Years and 1 Months' '5 Years and 1 Months'\n",
      " '5 Years and 10 Months' '5 Years and 11 Months' '6 Years and 0 Months'\n",
      " '6 Years and 1 Months' '6 Years and 2 Months' '6 Years and 3 Months'\n",
      " '22 Years and 9 Months' '22 Years and 10 Months' '23 Years and 1 Months'\n",
      " '22 Years and 2 Months' '15 Years and 4 Months' '15 Years and 5 Months'\n",
      " '15 Years and 6 Months' '15 Years and 7 Months' '15 Years and 8 Months'\n",
      " '15 Years and 9 Months' '15 Years and 10 Months' '15 Years and 11 Months'\n",
      " '2 Years and 3 Months' '2 Years and 4 Months' '2 Years and 5 Months'\n",
      " '2 Years and 6 Months' '2 Years and 7 Months' '2 Years and 8 Months'\n",
      " '2 Years and 9 Months' '2 Years and 10 Months' '2 Years and 0 Months'\n",
      " '16 Years and 2 Months' '16 Years and 3 Months' '22 Years and 8 Months'\n",
      " '9 Years and 5 Months' '9 Years and 7 Months' '9 Years and 8 Months'\n",
      " '9 Years and 9 Months' '11 Years and 11 Months' '12 Years and 0 Months'\n",
      " '12 Years and 1 Months' '24 Years and 2 Months' '16 Years and 0 Months'\n",
      " '16 Years and 1 Months' '14 Years and 7 Months' '25 Years and 4 Months'\n",
      " '15 Years and 3 Months' '7 Years and 1 Months' '7 Years and 2 Months'\n",
      " '7 Years and 3 Months' '7 Years and 4 Months' '7 Years and 5 Months'\n",
      " '23 Years and 7 Months' '23 Years and 8 Months' '23 Years and 9 Months'\n",
      " '30 Years and 1 Months' '29 Years and 10 Months' '9 Years and 10 Months'\n",
      " '9 Years and 11 Months' '10 Years and 0 Months' '2 Years and 2 Months'\n",
      " '23 Years and 10 Months' '23 Years and 11 Months' '24 Years and 0 Months'\n",
      " '24 Years and 1 Months' '6 Years and 4 Months' '0 Years and 1 Months'\n",
      " '0 Years and 2 Months' '0 Years and 3 Months' '0 Years and 7 Months'\n",
      " '3 Years and 8 Months' '32 Years and 7 Months' '3 Years and 7 Months'\n",
      " '3 Years and 9 Months' '3 Years and 10 Months' '0 Years and 11 Months'\n",
      " '1 Years and 0 Months' '1 Years and 1 Months' '4 Years and 4 Months'\n",
      " '3 Years and 11 Months' '4 Years and 0 Months' '4 Years and 1 Months'\n",
      " '4 Years and 2 Months' '4 Years and 3 Months' '2 Years and 1 Months']\n",
      "======\n",
      "Payment_of_Min_Amount\n",
      "['No' 'NM' 'Yes']\n",
      "======\n",
      "Total_EMI_per_month\n",
      "[4.95749492e+01 1.88162146e+01 2.46992319e+02 ... 1.21120000e+04\n",
      " 3.51040226e+01 5.86380000e+04]\n",
      "======\n",
      "Amount_invested_monthly\n",
      "['80.41529543900253' '118.28022162236736' '81.699521264648' ...\n",
      " '24.02847744864441' '251.67258219721603' '167.1638651610451']\n",
      "======\n",
      "Payment_Behaviour\n",
      "['High_spent_Small_value_payments' 'Low_spent_Large_value_payments'\n",
      " 'Low_spent_Medium_value_payments' 'Low_spent_Small_value_payments'\n",
      " 'High_spent_Medium_value_payments' '!@9#%8'\n",
      " 'High_spent_Large_value_payments']\n",
      "======\n",
      "Monthly_Balance\n",
      "['312.49408867943663' '284.62916249607184' '331.2098628537912' ...\n",
      " 516.8090832742814 319.1649785257098 393.6736955618808]\n",
      "======\n",
      "Credit_Score\n",
      "['Good' 'Standard' 'Poor']\n",
      "======\n"
     ]
    }
   ],
   "source": [
    "for col in train_df.columns:\n",
    "    print(col)\n",
    "    print(train_df[col].unique()) \n",
    "    print('======') "
   ]
  },
  {
   "cell_type": "markdown",
   "id": "e818234a",
   "metadata": {
    "papermill": {
     "duration": 0.013817,
     "end_time": "2022-07-23T20:49:02.989033",
     "exception": false,
     "start_time": "2022-07-23T20:49:02.975216",
     "status": "completed"
    },
    "tags": []
   },
   "source": [
    "Hypothesis:\n",
    "1- Each customer have a record of data for from Junauary to August in train data and from September to December in test data this will help in fill null value or mistake values in the columns that I suppose that not change from month to onther such as Age,SSN,Occupation ,Num_Bank_Accounts,Num_Credit_Card,and Credit_Mix\n",
    "2- calculate impute (median, mean,mode) depend on groupby for each customer instead of all values in the columns"
   ]
  },
  {
   "cell_type": "markdown",
   "id": "77815406",
   "metadata": {
    "papermill": {
     "duration": 0.012375,
     "end_time": "2022-07-23T20:49:03.013966",
     "exception": false,
     "start_time": "2022-07-23T20:49:03.001591",
     "status": "completed"
    },
    "tags": []
   },
   "source": [
    "#  Data Cleaning "
   ]
  },
  {
   "cell_type": "code",
   "execution_count": 11,
   "id": "0c782f22",
   "metadata": {
    "execution": {
     "iopub.execute_input": "2022-07-23T20:49:03.040984Z",
     "iopub.status.busy": "2022-07-23T20:49:03.040398Z",
     "iopub.status.idle": "2022-07-23T20:49:03.047836Z",
     "shell.execute_reply": "2022-07-23T20:49:03.046807Z"
    },
    "papermill": {
     "duration": 0.023285,
     "end_time": "2022-07-23T20:49:03.049965",
     "exception": false,
     "start_time": "2022-07-23T20:49:03.026680",
     "status": "completed"
    },
    "tags": []
   },
   "outputs": [
    {
     "data": {
      "text/plain": [
       "['ID',\n",
       " 'Customer_ID',\n",
       " 'Month',\n",
       " 'Name',\n",
       " 'Age',\n",
       " 'SSN',\n",
       " 'Occupation',\n",
       " 'Annual_Income',\n",
       " 'Num_of_Loan',\n",
       " 'Type_of_Loan',\n",
       " 'Num_of_Delayed_Payment',\n",
       " 'Changed_Credit_Limit',\n",
       " 'Credit_Mix',\n",
       " 'Outstanding_Debt',\n",
       " 'Credit_History_Age',\n",
       " 'Payment_of_Min_Amount',\n",
       " 'Amount_invested_monthly',\n",
       " 'Payment_Behaviour',\n",
       " 'Monthly_Balance',\n",
       " 'Credit_Score']"
      ]
     },
     "execution_count": 11,
     "metadata": {},
     "output_type": "execute_result"
    }
   ],
   "source": [
    "# Categorical Cols\n",
    "\n",
    "categorical_cols=[]\n",
    "for col in train_df.columns:\n",
    "    if train_df[col].dtype=='object':\n",
    "        categorical_cols.append(col) \n",
    "categorical_cols\n"
   ]
  },
  {
   "cell_type": "code",
   "execution_count": 12,
   "id": "fc490a81",
   "metadata": {
    "execution": {
     "iopub.execute_input": "2022-07-23T20:49:03.076209Z",
     "iopub.status.busy": "2022-07-23T20:49:03.075953Z",
     "iopub.status.idle": "2022-07-23T20:49:03.832438Z",
     "shell.execute_reply": "2022-07-23T20:49:03.831517Z"
    },
    "papermill": {
     "duration": 0.772588,
     "end_time": "2022-07-23T20:49:03.834860",
     "exception": false,
     "start_time": "2022-07-23T20:49:03.062272",
     "status": "completed"
    },
    "tags": []
   },
   "outputs": [],
   "source": [
    "# replace mistake value with nan as much as possible\n",
    "\n",
    "for col in categorical_cols:\n",
    "    train_df[col] = train_df[col].replace({'!@9#%8':'NAN_spent_NAN_value_payments', '#F%$D@*&8':'NAN-00-000','_______':np.nan,'__-333333333333333333333333333__':np.nan,'NM':np.nan,'_':np.nan,'__10000__':np.nan})"
   ]
  },
  {
   "cell_type": "code",
   "execution_count": 13,
   "id": "6b765257",
   "metadata": {
    "execution": {
     "iopub.execute_input": "2022-07-23T20:49:03.864192Z",
     "iopub.status.busy": "2022-07-23T20:49:03.863860Z",
     "iopub.status.idle": "2022-07-23T20:49:04.073999Z",
     "shell.execute_reply": "2022-07-23T20:49:04.073106Z"
    },
    "papermill": {
     "duration": 0.226926,
     "end_time": "2022-07-23T20:49:04.076036",
     "exception": false,
     "start_time": "2022-07-23T20:49:03.849110",
     "status": "completed"
    },
    "tags": []
   },
   "outputs": [],
   "source": [
    "# remove _ from some data\n",
    "strip_list=['Age','Annual_Income','Num_of_Loan','Num_of_Delayed_Payment', 'Outstanding_Debt']\n",
    "\n",
    "for col in strip_list:\n",
    "    train_df[col]=train_df[col].str.strip(\"_\")"
   ]
  },
  {
   "cell_type": "code",
   "execution_count": 14,
   "id": "c6cafd33",
   "metadata": {
    "execution": {
     "iopub.execute_input": "2022-07-23T20:49:04.103056Z",
     "iopub.status.busy": "2022-07-23T20:49:04.102781Z",
     "iopub.status.idle": "2022-07-23T20:49:04.137335Z",
     "shell.execute_reply": "2022-07-23T20:49:04.136344Z"
    },
    "papermill": {
     "duration": 0.050366,
     "end_time": "2022-07-23T20:49:04.139578",
     "exception": false,
     "start_time": "2022-07-23T20:49:04.089212",
     "status": "completed"
    },
    "tags": []
   },
   "outputs": [],
   "source": [
    "train_df['Age'] = train_df['Age'].astype(int)  \n",
    "\n",
    "train_df['Age']=np.where (train_df['Age']>75, np.NAN,train_df['Age'])"
   ]
  },
  {
   "cell_type": "code",
   "execution_count": 15,
   "id": "2f85885c",
   "metadata": {
    "execution": {
     "iopub.execute_input": "2022-07-23T20:49:04.167439Z",
     "iopub.status.busy": "2022-07-23T20:49:04.167122Z",
     "iopub.status.idle": "2022-07-23T20:49:04.225414Z",
     "shell.execute_reply": "2022-07-23T20:49:04.224554Z"
    },
    "papermill": {
     "duration": 0.074736,
     "end_time": "2022-07-23T20:49:04.227551",
     "exception": false,
     "start_time": "2022-07-23T20:49:04.152815",
     "status": "completed"
    },
    "tags": []
   },
   "outputs": [],
   "source": [
    "train_df['area']=train_df['SSN'].apply(lambda x:x.split('-')[0])\n",
    "\n",
    "train_df.insert(5, 'Area', train_df['area'])\n",
    "\n",
    "\n",
    "train_df['Area']=train_df['Area'].replace('NAN',np.NAN)"
   ]
  },
  {
   "cell_type": "code",
   "execution_count": 16,
   "id": "cf687c6f",
   "metadata": {
    "execution": {
     "iopub.execute_input": "2022-07-23T20:49:04.254309Z",
     "iopub.status.busy": "2022-07-23T20:49:04.254007Z",
     "iopub.status.idle": "2022-07-23T20:49:04.496359Z",
     "shell.execute_reply": "2022-07-23T20:49:04.495395Z"
    },
    "papermill": {
     "duration": 0.258701,
     "end_time": "2022-07-23T20:49:04.498909",
     "exception": false,
     "start_time": "2022-07-23T20:49:04.240208",
     "status": "completed"
    },
    "tags": []
   },
   "outputs": [],
   "source": [
    "# Change type  of some features\n",
    "type_col=['Area','Monthly_Inhand_Salary','Monthly_Balance','Num_of_Delayed_Payment','Outstanding_Debt','Amount_invested_monthly', 'Annual_Income', 'Num_of_Loan', 'Changed_Credit_Limit']\n",
    "\n",
    "for col in type_col:\n",
    "    train_df[col]=train_df[col].astype(float)"
   ]
  },
  {
   "cell_type": "markdown",
   "id": "68a9bc24",
   "metadata": {
    "papermill": {
     "duration": 0.012534,
     "end_time": "2022-07-23T20:49:04.524539",
     "exception": false,
     "start_time": "2022-07-23T20:49:04.512005",
     "status": "completed"
    },
    "tags": []
   },
   "source": [
    "# Feature Engeering "
   ]
  },
  {
   "cell_type": "code",
   "execution_count": 17,
   "id": "666ef06b",
   "metadata": {
    "execution": {
     "iopub.execute_input": "2022-07-23T20:49:04.551337Z",
     "iopub.status.busy": "2022-07-23T20:49:04.551028Z",
     "iopub.status.idle": "2022-07-23T20:49:04.561523Z",
     "shell.execute_reply": "2022-07-23T20:49:04.560679Z"
    },
    "papermill": {
     "duration": 0.026421,
     "end_time": "2022-07-23T20:49:04.563690",
     "exception": false,
     "start_time": "2022-07-23T20:49:04.537269",
     "status": "completed"
    },
    "tags": []
   },
   "outputs": [],
   "source": [
    "train_df[\"AgeLevel\"]=pd.cut(train_df[\"Age\"],4,labels=[\"childern\",\"youth\",\"adult\",\"Seniors\"])\n"
   ]
  },
  {
   "cell_type": "code",
   "execution_count": 18,
   "id": "d5fa95fa",
   "metadata": {
    "execution": {
     "iopub.execute_input": "2022-07-23T20:49:04.592031Z",
     "iopub.status.busy": "2022-07-23T20:49:04.591264Z",
     "iopub.status.idle": "2022-07-23T20:49:04.661494Z",
     "shell.execute_reply": "2022-07-23T20:49:04.660674Z"
    },
    "papermill": {
     "duration": 0.086422,
     "end_time": "2022-07-23T20:49:04.663518",
     "exception": false,
     "start_time": "2022-07-23T20:49:04.577096",
     "status": "completed"
    },
    "tags": []
   },
   "outputs": [],
   "source": [
    "train_df['New_Payment_Behaviour']=train_df['Payment_Behaviour'].apply(lambda x:x.split('_value_')[0].replace('_spent_',''))"
   ]
  },
  {
   "cell_type": "code",
   "execution_count": 19,
   "id": "a8fd71b9",
   "metadata": {
    "execution": {
     "iopub.execute_input": "2022-07-23T20:49:04.690256Z",
     "iopub.status.busy": "2022-07-23T20:49:04.689995Z",
     "iopub.status.idle": "2022-07-23T20:49:05.200492Z",
     "shell.execute_reply": "2022-07-23T20:49:05.199543Z"
    },
    "papermill": {
     "duration": 0.526904,
     "end_time": "2022-07-23T20:49:05.203167",
     "exception": false,
     "start_time": "2022-07-23T20:49:04.676263",
     "status": "completed"
    },
    "tags": []
   },
   "outputs": [],
   "source": [
    "# calculate Credit_History_Age by months\n",
    "\n",
    "train_df['Credit_History_Age']=train_df['Credit_History_Age'].replace(np.NAN,'0 Years and 0 Months')\n",
    "\n",
    "train_df['year']=train_df['Credit_History_Age'].apply(lambda x:x.split('and')[0]).str.replace('Years','')\n",
    "\n",
    "train_df['year']=pd.to_numeric(train_df['year'],errors='coerce').apply(lambda x: x*12)\n",
    "train_df['year'].dtypes\n",
    "\n",
    "train_df['month']=train_df['Credit_History_Age'].apply(lambda x:x.split('and')[1]).str.replace('Months','')\n",
    "\n",
    "train_df['month']=pd.to_numeric(train_df['month'],errors='coerce')\n",
    "train_df['month'].dtypes\n",
    "\n",
    "train_df['New_Credit_History_Age (months)']=train_df['year']+train_df['month']"
   ]
  },
  {
   "cell_type": "markdown",
   "id": "7107161b",
   "metadata": {
    "papermill": {
     "duration": 0.013166,
     "end_time": "2022-07-23T20:49:05.229438",
     "exception": false,
     "start_time": "2022-07-23T20:49:05.216272",
     "status": "completed"
    },
    "tags": []
   },
   "source": [
    "# Preprocessing"
   ]
  },
  {
   "cell_type": "code",
   "execution_count": 20,
   "id": "9b280c37",
   "metadata": {
    "execution": {
     "iopub.execute_input": "2022-07-23T20:49:05.256398Z",
     "iopub.status.busy": "2022-07-23T20:49:05.256086Z",
     "iopub.status.idle": "2022-07-23T20:49:05.471665Z",
     "shell.execute_reply": "2022-07-23T20:49:05.470695Z"
    },
    "papermill": {
     "duration": 0.232205,
     "end_time": "2022-07-23T20:49:05.474016",
     "exception": false,
     "start_time": "2022-07-23T20:49:05.241811",
     "status": "completed"
    },
    "tags": []
   },
   "outputs": [],
   "source": [
    "# Convert Catogrical Data\n",
    "\n",
    "dict={'January':1, 'February':2, 'March':3, 'April':4, 'May':5, 'June':6, 'July':7,'August':8,'September':9, 'October':10, 'November':11, 'December':12}\n",
    "train_df['Month']=train_df['Month'].map(dict)\n",
    "\n",
    "from sklearn import preprocessing\n",
    "lb = preprocessing.LabelEncoder()\n",
    "enc_list=['Credit_Score','Payment_of_Min_Amount','Occupation','Credit_Mix','AgeLevel','New_Payment_Behaviour']\n",
    "for col in enc_list:\n",
    "    train_df[col]=lb.fit_transform(train_df[col])"
   ]
  },
  {
   "cell_type": "code",
   "execution_count": 21,
   "id": "4d8efaf2",
   "metadata": {
    "execution": {
     "iopub.execute_input": "2022-07-23T20:49:05.501286Z",
     "iopub.status.busy": "2022-07-23T20:49:05.500992Z",
     "iopub.status.idle": "2022-07-23T20:49:05.593720Z",
     "shell.execute_reply": "2022-07-23T20:49:05.592701Z"
    },
    "papermill": {
     "duration": 0.108629,
     "end_time": "2022-07-23T20:49:05.596043",
     "exception": false,
     "start_time": "2022-07-23T20:49:05.487414",
     "status": "completed"
    },
    "tags": []
   },
   "outputs": [
    {
     "name": "stdout",
     "output_type": "stream",
     "text": [
      "                        col   null  null_percenatage\n",
      "3                      Name   9985           0.09985\n",
      "4                       Age   1895           0.01895\n",
      "5                      Area   5572           0.05572\n",
      "9     Monthly_Inhand_Salary  15002           0.15002\n",
      "14             Type_of_Loan  11408           0.11408\n",
      "16   Num_of_Delayed_Payment   7002           0.07002\n",
      "17     Changed_Credit_Limit   2091           0.02091\n",
      "18     Num_Credit_Inquiries   1965           0.01965\n",
      "25  Amount_invested_monthly   8784           0.08784\n",
      "27          Monthly_Balance   1209           0.01209\n"
     ]
    }
   ],
   "source": [
    "# Missing values\n",
    "def display_missing_data(df):\n",
    "    missing_data = df.isnull().sum().reset_index()\n",
    "    missing_data = missing_data.rename({'index': 'col', 0: 'null'}, axis=1)\n",
    "    missing_data['null_percenatage'] = missing_data['null'] / len(df)\n",
    "    missing_data = missing_data.loc[missing_data['null'] > 0]\n",
    "    return missing_data\n",
    "\n",
    "print(display_missing_data(train_df))"
   ]
  },
  {
   "cell_type": "code",
   "execution_count": 22,
   "id": "54ae6ddc",
   "metadata": {
    "execution": {
     "iopub.execute_input": "2022-07-23T20:49:05.624486Z",
     "iopub.status.busy": "2022-07-23T20:49:05.623569Z",
     "iopub.status.idle": "2022-07-23T20:49:42.178290Z",
     "shell.execute_reply": "2022-07-23T20:49:42.177192Z"
    },
    "papermill": {
     "duration": 36.571077,
     "end_time": "2022-07-23T20:49:42.180784",
     "exception": false,
     "start_time": "2022-07-23T20:49:05.609707",
     "status": "completed"
    },
    "tags": []
   },
   "outputs": [],
   "source": [
    "# calculate   (median, mean,mode) depend on groupby\n",
    "\n",
    "group_list=['Age','Monthly_Inhand_Salary','Payment_of_Min_Amount','Monthly_Balance','Changed_Credit_Limit','Changed_Credit_Limit','Num_of_Delayed_Payment','Num_Credit_Inquiries','Amount_invested_monthly']\n",
    "\n",
    "for col3 in group_list:\n",
    "    \n",
    "    train_df[col3] = train_df.groupby(['Customer_ID'], sort=False)[col3].apply(lambda x: x.fillna(x.median()))"
   ]
  },
  {
   "cell_type": "code",
   "execution_count": 23,
   "id": "42e4d1a9",
   "metadata": {
    "execution": {
     "iopub.execute_input": "2022-07-23T20:49:42.208782Z",
     "iopub.status.busy": "2022-07-23T20:49:42.208455Z",
     "iopub.status.idle": "2022-07-23T20:50:00.179466Z",
     "shell.execute_reply": "2022-07-23T20:50:00.178323Z"
    },
    "papermill": {
     "duration": 17.9882,
     "end_time": "2022-07-23T20:50:00.182118",
     "exception": false,
     "start_time": "2022-07-23T20:49:42.193918",
     "status": "completed"
    },
    "tags": []
   },
   "outputs": [],
   "source": [
    "group_list2=['Area','Occupation','Payment_of_Min_Amount','Credit_Mix','New_Payment_Behaviour']\n",
    "\n",
    "for col4 in group_list2:\n",
    "    \n",
    "    train_df[col4] = train_df.groupby(['Customer_ID'], sort=False)[col4].apply(lambda x: x.fillna(x.mode()[0]))"
   ]
  },
  {
   "cell_type": "code",
   "execution_count": 24,
   "id": "c8ee1b80",
   "metadata": {
    "execution": {
     "iopub.execute_input": "2022-07-23T20:50:00.209043Z",
     "iopub.status.busy": "2022-07-23T20:50:00.208752Z",
     "iopub.status.idle": "2022-07-23T20:50:00.249564Z",
     "shell.execute_reply": "2022-07-23T20:50:00.248611Z"
    },
    "papermill": {
     "duration": 0.056809,
     "end_time": "2022-07-23T20:50:00.252047",
     "exception": false,
     "start_time": "2022-07-23T20:50:00.195238",
     "status": "completed"
    },
    "tags": []
   },
   "outputs": [],
   "source": [
    "train_df.drop( axis= 1,columns=['ID','Customer_ID','Name','Age','area','SSN','Credit_History_Age','Payment_Behaviour','Type_of_Loan','year','month'],inplace = True)"
   ]
  },
  {
   "cell_type": "markdown",
   "id": "22843525",
   "metadata": {
    "papermill": {
     "duration": 0.012424,
     "end_time": "2022-07-23T20:50:00.277826",
     "exception": false,
     "start_time": "2022-07-23T20:50:00.265402",
     "status": "completed"
    },
    "tags": []
   },
   "source": [
    "# Visulaztion "
   ]
  },
  {
   "cell_type": "code",
   "execution_count": 25,
   "id": "b3afeb9f",
   "metadata": {
    "execution": {
     "iopub.execute_input": "2022-07-23T20:50:00.305092Z",
     "iopub.status.busy": "2022-07-23T20:50:00.304784Z",
     "iopub.status.idle": "2022-07-23T20:50:00.533060Z",
     "shell.execute_reply": "2022-07-23T20:50:00.531896Z"
    },
    "papermill": {
     "duration": 0.245839,
     "end_time": "2022-07-23T20:50:00.536189",
     "exception": false,
     "start_time": "2022-07-23T20:50:00.290350",
     "status": "completed"
    },
    "tags": []
   },
   "outputs": [
    {
     "data": {
      "text/plain": [
       "<AxesSubplot:ylabel='None'>"
      ]
     },
     "execution_count": 25,
     "metadata": {},
     "output_type": "execute_result"
    },
    {
     "data": {
      "image/png": "[encoded data removed]",
      "text/plain": [
       "<Figure size 432x432 with 1 Axes>"
      ]
     },
     "metadata": {},
     "output_type": "display_data"
    }
   ],
   "source": [
    "sns.set(rc={'figure.figsize':(6,6)}, font_scale=1.2)\n",
    "train_df.groupby('Occupation').size().plot(kind='pie', autopct='%.2f', textprops={'fontsize': 8})"
   ]
  },
  {
   "cell_type": "code",
   "execution_count": 26,
   "id": "7db1fabd",
   "metadata": {
    "execution": {
     "iopub.execute_input": "2022-07-23T20:50:00.588865Z",
     "iopub.status.busy": "2022-07-23T20:50:00.588440Z",
     "iopub.status.idle": "2022-07-23T20:50:01.357976Z",
     "shell.execute_reply": "2022-07-23T20:50:01.357034Z"
    },
    "papermill": {
     "duration": 0.798054,
     "end_time": "2022-07-23T20:50:01.360479",
     "exception": false,
     "start_time": "2022-07-23T20:50:00.562425",
     "status": "completed"
    },
    "tags": []
   },
   "outputs": [
    {
     "data": {
      "text/plain": [
       "<AxesSubplot:xlabel='Credit_Score', ylabel='Num_Bank_Accounts'>"
      ]
     },
     "execution_count": 26,
     "metadata": {},
     "output_type": "execute_result"
    },
    {
     "data": {
      "image/png": "[encoded data removed]",
      "text/plain": [
       "<Figure size 432x432 with 1 Axes>"
      ]
     },
     "metadata": {},
     "output_type": "display_data"
    }
   ],
   "source": [
    "sns.stripplot(x='Credit_Score', y='Num_Bank_Accounts', data=train_df)"
   ]
  },
  {
   "cell_type": "code",
   "execution_count": 27,
   "id": "cf537f4e",
   "metadata": {
    "execution": {
     "iopub.execute_input": "2022-07-23T20:50:01.391985Z",
     "iopub.status.busy": "2022-07-23T20:50:01.391664Z",
     "iopub.status.idle": "2022-07-23T20:50:02.058554Z",
     "shell.execute_reply": "2022-07-23T20:50:02.057665Z"
    },
    "papermill": {
     "duration": 0.684949,
     "end_time": "2022-07-23T20:50:02.060719",
     "exception": false,
     "start_time": "2022-07-23T20:50:01.375770",
     "status": "completed"
    },
    "tags": []
   },
   "outputs": [
    {
     "data": {
      "text/plain": [
       "<AxesSubplot:xlabel='Credit_Mix', ylabel='Credit_Score'>"
      ]
     },
     "execution_count": 27,
     "metadata": {},
     "output_type": "execute_result"
    },
    {
     "data": {
      "image/png": "[encoded data removed]",
      "text/plain": [
       "<Figure size 432x432 with 1 Axes>"
      ]
     },
     "metadata": {},
     "output_type": "display_data"
    }
   ],
   "source": [
    "sns.stripplot(x=\"Credit_Mix\",y='Credit_Score', data=train_df)"
   ]
  },
  {
   "cell_type": "code",
   "execution_count": 28,
   "id": "08b9f1fa",
   "metadata": {
    "execution": {
     "iopub.execute_input": "2022-07-23T20:50:02.092713Z",
     "iopub.status.busy": "2022-07-23T20:50:02.091804Z",
     "iopub.status.idle": "2022-07-23T20:50:02.731003Z",
     "shell.execute_reply": "2022-07-23T20:50:02.730111Z"
    },
    "papermill": {
     "duration": 0.65709,
     "end_time": "2022-07-23T20:50:02.733180",
     "exception": false,
     "start_time": "2022-07-23T20:50:02.076090",
     "status": "completed"
    },
    "tags": []
   },
   "outputs": [
    {
     "data": {
      "text/plain": [
       "<AxesSubplot:xlabel='Annual_Income', ylabel='Density'>"
      ]
     },
     "execution_count": 28,
     "metadata": {},
     "output_type": "execute_result"
    },
    {
     "data": {
      "image/png": "[encoded data removed]",
      "text/plain": [
       "<Figure size 576x576 with 1 Axes>"
      ]
     },
     "metadata": {},
     "output_type": "display_data"
    }
   ],
   "source": [
    "sns.set(rc={'figure.figsize':(8,8)}, font_scale=1.2)\n",
    "\n",
    "sns.kdeplot(train_df['Annual_Income'], shade=True)"
   ]
  },
  {
   "cell_type": "code",
   "execution_count": 29,
   "id": "bb36a646",
   "metadata": {
    "execution": {
     "iopub.execute_input": "2022-07-23T20:50:02.766186Z",
     "iopub.status.busy": "2022-07-23T20:50:02.765227Z",
     "iopub.status.idle": "2022-07-23T20:50:02.938658Z",
     "shell.execute_reply": "2022-07-23T20:50:02.937704Z"
    },
    "papermill": {
     "duration": 0.192095,
     "end_time": "2022-07-23T20:50:02.940681",
     "exception": false,
     "start_time": "2022-07-23T20:50:02.748586",
     "status": "completed"
    },
    "tags": []
   },
   "outputs": [
    {
     "data": {
      "text/plain": [
       "<AxesSubplot:ylabel='Monthly_Inhand_Salary'>"
      ]
     },
     "execution_count": 29,
     "metadata": {},
     "output_type": "execute_result"
    },
    {
     "data": {
      "image/png": "[encoded data removed]",
      "text/plain": [
       "<Figure size 576x576 with 1 Axes>"
      ]
     },
     "metadata": {},
     "output_type": "display_data"
    }
   ],
   "source": [
    "sns.set(rc={'figure.figsize':(8,8)}, font_scale=1.2)\n",
    "sns.boxplot(y='Monthly_Inhand_Salary',data=train_df)"
   ]
  },
  {
   "cell_type": "code",
   "execution_count": 30,
   "id": "cc8aeb53",
   "metadata": {
    "execution": {
     "iopub.execute_input": "2022-07-23T20:50:02.973879Z",
     "iopub.status.busy": "2022-07-23T20:50:02.973591Z",
     "iopub.status.idle": "2022-07-23T20:50:08.559479Z",
     "shell.execute_reply": "2022-07-23T20:50:08.558569Z"
    },
    "papermill": {
     "duration": 5.605124,
     "end_time": "2022-07-23T20:50:08.561815",
     "exception": false,
     "start_time": "2022-07-23T20:50:02.956691",
     "status": "completed"
    },
    "tags": []
   },
   "outputs": [
    {
     "data": {
      "image/png": "[encoded data removed]",
      "text/plain": [
       "<Figure size 864x432 with 1 Axes>"
      ]
     },
     "metadata": {},
     "output_type": "display_data"
    }
   ],
   "source": [
    "# Bivariate plots\n",
    "import matplotlib.pyplot as plt\n",
    "import seaborn as sns\n",
    "plt.figure(figsize=(12,6))\n",
    "sns.scatterplot(data=train_df,x='Monthly_Balance',hue='Occupation',y='Credit_Score')\n",
    "plt.show()"
   ]
  },
  {
   "cell_type": "code",
   "execution_count": 31,
   "id": "d7e00118",
   "metadata": {
    "execution": {
     "iopub.execute_input": "2022-07-23T20:50:08.596900Z",
     "iopub.status.busy": "2022-07-23T20:50:08.596128Z",
     "iopub.status.idle": "2022-07-23T20:50:08.630114Z",
     "shell.execute_reply": "2022-07-23T20:50:08.629197Z"
    },
    "papermill": {
     "duration": 0.053438,
     "end_time": "2022-07-23T20:50:08.632131",
     "exception": false,
     "start_time": "2022-07-23T20:50:08.578693",
     "status": "completed"
    },
    "tags": []
   },
   "outputs": [
    {
     "data": {
      "text/html": [
       "<div>\n",
       "<style scoped>\n",
       "    .dataframe tbody tr th:only-of-type {\n",
       "        vertical-align: middle;\n",
       "    }\n",
       "\n",
       "    .dataframe tbody tr th {\n",
       "        vertical-align: top;\n",
       "    }\n",
       "\n",
       "    .dataframe thead th {\n",
       "        text-align: right;\n",
       "    }\n",
       "</style>\n",
       "<table border=\"1\" class=\"dataframe\">\n",
       "  <thead>\n",
       "    <tr style=\"text-align: right;\">\n",
       "      <th></th>\n",
       "      <th>Month</th>\n",
       "      <th>Area</th>\n",
       "      <th>Occupation</th>\n",
       "      <th>Annual_Income</th>\n",
       "      <th>Monthly_Inhand_Salary</th>\n",
       "      <th>Num_Bank_Accounts</th>\n",
       "      <th>Num_Credit_Card</th>\n",
       "      <th>Interest_Rate</th>\n",
       "      <th>Num_of_Loan</th>\n",
       "      <th>Delay_from_due_date</th>\n",
       "      <th>Num_of_Delayed_Payment</th>\n",
       "      <th>Changed_Credit_Limit</th>\n",
       "      <th>Num_Credit_Inquiries</th>\n",
       "      <th>Credit_Mix</th>\n",
       "      <th>Outstanding_Debt</th>\n",
       "      <th>Credit_Utilization_Ratio</th>\n",
       "      <th>Payment_of_Min_Amount</th>\n",
       "      <th>Total_EMI_per_month</th>\n",
       "      <th>Amount_invested_monthly</th>\n",
       "      <th>Monthly_Balance</th>\n",
       "      <th>Credit_Score</th>\n",
       "      <th>AgeLevel</th>\n",
       "      <th>New_Payment_Behaviour</th>\n",
       "      <th>New_Credit_History_Age (months)</th>\n",
       "    </tr>\n",
       "  </thead>\n",
       "  <tbody>\n",
       "    <tr>\n",
       "      <th>0</th>\n",
       "      <td>1</td>\n",
       "      <td>821.0</td>\n",
       "      <td>12</td>\n",
       "      <td>19114.12</td>\n",
       "      <td>1824.843333</td>\n",
       "      <td>3</td>\n",
       "      <td>4</td>\n",
       "      <td>3</td>\n",
       "      <td>4.0</td>\n",
       "      <td>3</td>\n",
       "      <td>7.0</td>\n",
       "      <td>11.27</td>\n",
       "      <td>4.0</td>\n",
       "      <td>3</td>\n",
       "      <td>809.98</td>\n",
       "      <td>26.822620</td>\n",
       "      <td>0</td>\n",
       "      <td>49.574949</td>\n",
       "      <td>80.415295</td>\n",
       "      <td>312.494089</td>\n",
       "      <td>0</td>\n",
       "      <td>0</td>\n",
       "      <td>2</td>\n",
       "      <td>265</td>\n",
       "    </tr>\n",
       "    <tr>\n",
       "      <th>1</th>\n",
       "      <td>2</td>\n",
       "      <td>821.0</td>\n",
       "      <td>12</td>\n",
       "      <td>19114.12</td>\n",
       "      <td>1824.843333</td>\n",
       "      <td>3</td>\n",
       "      <td>4</td>\n",
       "      <td>3</td>\n",
       "      <td>4.0</td>\n",
       "      <td>-1</td>\n",
       "      <td>6.5</td>\n",
       "      <td>11.27</td>\n",
       "      <td>4.0</td>\n",
       "      <td>1</td>\n",
       "      <td>809.98</td>\n",
       "      <td>31.944960</td>\n",
       "      <td>0</td>\n",
       "      <td>49.574949</td>\n",
       "      <td>118.280222</td>\n",
       "      <td>284.629162</td>\n",
       "      <td>0</td>\n",
       "      <td>0</td>\n",
       "      <td>3</td>\n",
       "      <td>0</td>\n",
       "    </tr>\n",
       "    <tr>\n",
       "      <th>2</th>\n",
       "      <td>3</td>\n",
       "      <td>821.0</td>\n",
       "      <td>12</td>\n",
       "      <td>19114.12</td>\n",
       "      <td>1824.843333</td>\n",
       "      <td>3</td>\n",
       "      <td>4</td>\n",
       "      <td>3</td>\n",
       "      <td>4.0</td>\n",
       "      <td>3</td>\n",
       "      <td>7.0</td>\n",
       "      <td>11.27</td>\n",
       "      <td>4.0</td>\n",
       "      <td>1</td>\n",
       "      <td>809.98</td>\n",
       "      <td>28.609352</td>\n",
       "      <td>0</td>\n",
       "      <td>49.574949</td>\n",
       "      <td>81.699521</td>\n",
       "      <td>331.209863</td>\n",
       "      <td>0</td>\n",
       "      <td>1</td>\n",
       "      <td>4</td>\n",
       "      <td>267</td>\n",
       "    </tr>\n",
       "    <tr>\n",
       "      <th>3</th>\n",
       "      <td>4</td>\n",
       "      <td>821.0</td>\n",
       "      <td>12</td>\n",
       "      <td>19114.12</td>\n",
       "      <td>1824.843333</td>\n",
       "      <td>3</td>\n",
       "      <td>4</td>\n",
       "      <td>3</td>\n",
       "      <td>4.0</td>\n",
       "      <td>5</td>\n",
       "      <td>4.0</td>\n",
       "      <td>6.27</td>\n",
       "      <td>4.0</td>\n",
       "      <td>1</td>\n",
       "      <td>809.98</td>\n",
       "      <td>31.377862</td>\n",
       "      <td>0</td>\n",
       "      <td>49.574949</td>\n",
       "      <td>199.458074</td>\n",
       "      <td>223.451310</td>\n",
       "      <td>0</td>\n",
       "      <td>0</td>\n",
       "      <td>5</td>\n",
       "      <td>268</td>\n",
       "    </tr>\n",
       "    <tr>\n",
       "      <th>4</th>\n",
       "      <td>5</td>\n",
       "      <td>821.0</td>\n",
       "      <td>12</td>\n",
       "      <td>19114.12</td>\n",
       "      <td>1824.843333</td>\n",
       "      <td>3</td>\n",
       "      <td>4</td>\n",
       "      <td>3</td>\n",
       "      <td>4.0</td>\n",
       "      <td>6</td>\n",
       "      <td>6.5</td>\n",
       "      <td>11.27</td>\n",
       "      <td>4.0</td>\n",
       "      <td>1</td>\n",
       "      <td>809.98</td>\n",
       "      <td>24.797347</td>\n",
       "      <td>0</td>\n",
       "      <td>49.574949</td>\n",
       "      <td>41.420153</td>\n",
       "      <td>341.489231</td>\n",
       "      <td>0</td>\n",
       "      <td>0</td>\n",
       "      <td>1</td>\n",
       "      <td>269</td>\n",
       "    </tr>\n",
       "    <tr>\n",
       "      <th>...</th>\n",
       "      <td>...</td>\n",
       "      <td>...</td>\n",
       "      <td>...</td>\n",
       "      <td>...</td>\n",
       "      <td>...</td>\n",
       "      <td>...</td>\n",
       "      <td>...</td>\n",
       "      <td>...</td>\n",
       "      <td>...</td>\n",
       "      <td>...</td>\n",
       "      <td>...</td>\n",
       "      <td>...</td>\n",
       "      <td>...</td>\n",
       "      <td>...</td>\n",
       "      <td>...</td>\n",
       "      <td>...</td>\n",
       "      <td>...</td>\n",
       "      <td>...</td>\n",
       "      <td>...</td>\n",
       "      <td>...</td>\n",
       "      <td>...</td>\n",
       "      <td>...</td>\n",
       "      <td>...</td>\n",
       "      <td>...</td>\n",
       "    </tr>\n",
       "    <tr>\n",
       "      <th>99995</th>\n",
       "      <td>4</td>\n",
       "      <td>78.0</td>\n",
       "      <td>9</td>\n",
       "      <td>39628.99</td>\n",
       "      <td>3359.415833</td>\n",
       "      <td>4</td>\n",
       "      <td>6</td>\n",
       "      <td>7</td>\n",
       "      <td>2.0</td>\n",
       "      <td>23</td>\n",
       "      <td>7.0</td>\n",
       "      <td>11.50</td>\n",
       "      <td>3.0</td>\n",
       "      <td>3</td>\n",
       "      <td>502.38</td>\n",
       "      <td>34.663572</td>\n",
       "      <td>0</td>\n",
       "      <td>35.104023</td>\n",
       "      <td>60.971333</td>\n",
       "      <td>479.866228</td>\n",
       "      <td>1</td>\n",
       "      <td>0</td>\n",
       "      <td>0</td>\n",
       "      <td>378</td>\n",
       "    </tr>\n",
       "    <tr>\n",
       "      <th>99996</th>\n",
       "      <td>5</td>\n",
       "      <td>78.0</td>\n",
       "      <td>9</td>\n",
       "      <td>39628.99</td>\n",
       "      <td>3359.415833</td>\n",
       "      <td>4</td>\n",
       "      <td>6</td>\n",
       "      <td>7</td>\n",
       "      <td>2.0</td>\n",
       "      <td>18</td>\n",
       "      <td>7.0</td>\n",
       "      <td>11.50</td>\n",
       "      <td>3.0</td>\n",
       "      <td>3</td>\n",
       "      <td>502.38</td>\n",
       "      <td>40.565631</td>\n",
       "      <td>0</td>\n",
       "      <td>35.104023</td>\n",
       "      <td>54.185950</td>\n",
       "      <td>496.651610</td>\n",
       "      <td>1</td>\n",
       "      <td>0</td>\n",
       "      <td>1</td>\n",
       "      <td>379</td>\n",
       "    </tr>\n",
       "    <tr>\n",
       "      <th>99997</th>\n",
       "      <td>6</td>\n",
       "      <td>78.0</td>\n",
       "      <td>9</td>\n",
       "      <td>39628.99</td>\n",
       "      <td>3359.415833</td>\n",
       "      <td>4</td>\n",
       "      <td>6</td>\n",
       "      <td>5729</td>\n",
       "      <td>2.0</td>\n",
       "      <td>27</td>\n",
       "      <td>6.0</td>\n",
       "      <td>11.50</td>\n",
       "      <td>3.0</td>\n",
       "      <td>1</td>\n",
       "      <td>502.38</td>\n",
       "      <td>41.255522</td>\n",
       "      <td>0</td>\n",
       "      <td>35.104023</td>\n",
       "      <td>24.028477</td>\n",
       "      <td>516.809083</td>\n",
       "      <td>1</td>\n",
       "      <td>0</td>\n",
       "      <td>0</td>\n",
       "      <td>380</td>\n",
       "    </tr>\n",
       "    <tr>\n",
       "      <th>99998</th>\n",
       "      <td>7</td>\n",
       "      <td>78.0</td>\n",
       "      <td>9</td>\n",
       "      <td>39628.99</td>\n",
       "      <td>3359.415833</td>\n",
       "      <td>4</td>\n",
       "      <td>6</td>\n",
       "      <td>7</td>\n",
       "      <td>2.0</td>\n",
       "      <td>20</td>\n",
       "      <td>6.0</td>\n",
       "      <td>11.50</td>\n",
       "      <td>3.0</td>\n",
       "      <td>1</td>\n",
       "      <td>502.38</td>\n",
       "      <td>33.638208</td>\n",
       "      <td>0</td>\n",
       "      <td>35.104023</td>\n",
       "      <td>251.672582</td>\n",
       "      <td>319.164979</td>\n",
       "      <td>2</td>\n",
       "      <td>0</td>\n",
       "      <td>3</td>\n",
       "      <td>381</td>\n",
       "    </tr>\n",
       "    <tr>\n",
       "      <th>99999</th>\n",
       "      <td>8</td>\n",
       "      <td>78.0</td>\n",
       "      <td>9</td>\n",
       "      <td>39628.99</td>\n",
       "      <td>3359.415833</td>\n",
       "      <td>4</td>\n",
       "      <td>6</td>\n",
       "      <td>7</td>\n",
       "      <td>2.0</td>\n",
       "      <td>18</td>\n",
       "      <td>6.0</td>\n",
       "      <td>11.50</td>\n",
       "      <td>3.0</td>\n",
       "      <td>1</td>\n",
       "      <td>502.38</td>\n",
       "      <td>34.192463</td>\n",
       "      <td>0</td>\n",
       "      <td>35.104023</td>\n",
       "      <td>167.163865</td>\n",
       "      <td>393.673696</td>\n",
       "      <td>1</td>\n",
       "      <td>0</td>\n",
       "      <td>6</td>\n",
       "      <td>382</td>\n",
       "    </tr>\n",
       "  </tbody>\n",
       "</table>\n",
       "<p>100000 rows × 24 columns</p>\n",
       "</div>"
      ],
      "text/plain": [
       "       Month   Area  Occupation  Annual_Income  Monthly_Inhand_Salary  \\\n",
       "0          1  821.0          12       19114.12            1824.843333   \n",
       "1          2  821.0          12       19114.12            1824.843333   \n",
       "2          3  821.0          12       19114.12            1824.843333   \n",
       "3          4  821.0          12       19114.12            1824.843333   \n",
       "4          5  821.0          12       19114.12            1824.843333   \n",
       "...      ...    ...         ...            ...                    ...   \n",
       "99995      4   78.0           9       39628.99            3359.415833   \n",
       "99996      5   78.0           9       39628.99            3359.415833   \n",
       "99997      6   78.0           9       39628.99            3359.415833   \n",
       "99998      7   78.0           9       39628.99            3359.415833   \n",
       "99999      8   78.0           9       39628.99            3359.415833   \n",
       "\n",
       "       Num_Bank_Accounts  Num_Credit_Card  Interest_Rate  Num_of_Loan  \\\n",
       "0                      3                4              3          4.0   \n",
       "1                      3                4              3          4.0   \n",
       "2                      3                4              3          4.0   \n",
       "3                      3                4              3          4.0   \n",
       "4                      3                4              3          4.0   \n",
       "...                  ...              ...            ...          ...   \n",
       "99995                  4                6              7          2.0   \n",
       "99996                  4                6              7          2.0   \n",
       "99997                  4                6           5729          2.0   \n",
       "99998                  4                6              7          2.0   \n",
       "99999                  4                6              7          2.0   \n",
       "\n",
       "       Delay_from_due_date  Num_of_Delayed_Payment  Changed_Credit_Limit  \\\n",
       "0                        3                     7.0                 11.27   \n",
       "1                       -1                     6.5                 11.27   \n",
       "2                        3                     7.0                 11.27   \n",
       "3                        5                     4.0                  6.27   \n",
       "4                        6                     6.5                 11.27   \n",
       "...                    ...                     ...                   ...   \n",
       "99995                   23                     7.0                 11.50   \n",
       "99996                   18                     7.0                 11.50   \n",
       "99997                   27                     6.0                 11.50   \n",
       "99998                   20                     6.0                 11.50   \n",
       "99999                   18                     6.0                 11.50   \n",
       "\n",
       "       Num_Credit_Inquiries  Credit_Mix  Outstanding_Debt  \\\n",
       "0                       4.0           3            809.98   \n",
       "1                       4.0           1            809.98   \n",
       "2                       4.0           1            809.98   \n",
       "3                       4.0           1            809.98   \n",
       "4                       4.0           1            809.98   \n",
       "...                     ...         ...               ...   \n",
       "99995                   3.0           3            502.38   \n",
       "99996                   3.0           3            502.38   \n",
       "99997                   3.0           1            502.38   \n",
       "99998                   3.0           1            502.38   \n",
       "99999                   3.0           1            502.38   \n",
       "\n",
       "       Credit_Utilization_Ratio  Payment_of_Min_Amount  Total_EMI_per_month  \\\n",
       "0                     26.822620                      0            49.574949   \n",
       "1                     31.944960                      0            49.574949   \n",
       "2                     28.609352                      0            49.574949   \n",
       "3                     31.377862                      0            49.574949   \n",
       "4                     24.797347                      0            49.574949   \n",
       "...                         ...                    ...                  ...   \n",
       "99995                 34.663572                      0            35.104023   \n",
       "99996                 40.565631                      0            35.104023   \n",
       "99997                 41.255522                      0            35.104023   \n",
       "99998                 33.638208                      0            35.104023   \n",
       "99999                 34.192463                      0            35.104023   \n",
       "\n",
       "       Amount_invested_monthly  Monthly_Balance  Credit_Score  AgeLevel  \\\n",
       "0                    80.415295       312.494089             0         0   \n",
       "1                   118.280222       284.629162             0         0   \n",
       "2                    81.699521       331.209863             0         1   \n",
       "3                   199.458074       223.451310             0         0   \n",
       "4                    41.420153       341.489231             0         0   \n",
       "...                        ...              ...           ...       ...   \n",
       "99995                60.971333       479.866228             1         0   \n",
       "99996                54.185950       496.651610             1         0   \n",
       "99997                24.028477       516.809083             1         0   \n",
       "99998               251.672582       319.164979             2         0   \n",
       "99999               167.163865       393.673696             1         0   \n",
       "\n",
       "       New_Payment_Behaviour  New_Credit_History_Age (months)  \n",
       "0                          2                              265  \n",
       "1                          3                                0  \n",
       "2                          4                              267  \n",
       "3                          5                              268  \n",
       "4                          1                              269  \n",
       "...                      ...                              ...  \n",
       "99995                      0                              378  \n",
       "99996                      1                              379  \n",
       "99997                      0                              380  \n",
       "99998                      3                              381  \n",
       "99999                      6                              382  \n",
       "\n",
       "[100000 rows x 24 columns]"
      ]
     },
     "execution_count": 31,
     "metadata": {},
     "output_type": "execute_result"
    }
   ],
   "source": [
    "train_df"
   ]
  },
  {
   "cell_type": "code",
   "execution_count": 32,
   "id": "a5fba40c",
   "metadata": {
    "execution": {
     "iopub.execute_input": "2022-07-23T20:50:08.668248Z",
     "iopub.status.busy": "2022-07-23T20:50:08.667777Z",
     "iopub.status.idle": "2022-07-23T20:50:11.432949Z",
     "shell.execute_reply": "2022-07-23T20:50:11.432112Z"
    },
    "papermill": {
     "duration": 2.785854,
     "end_time": "2022-07-23T20:50:11.435337",
     "exception": false,
     "start_time": "2022-07-23T20:50:08.649483",
     "status": "completed"
    },
    "tags": []
   },
   "outputs": [
    {
     "data": {
      "text/html": [
       "<style type='text/css'>\n",
       ".datatable table.frame { margin-bottom: 0; }\n",
       ".datatable table.frame thead { border-bottom: none; }\n",
       ".datatable table.frame tr.coltypes td {  color: #FFFFFF;  line-height: 6px;  padding: 0 0.5em;}\n",
       ".datatable .bool    { background: #DDDD99; }\n",
       ".datatable .object  { background: #565656; }\n",
       ".datatable .int     { background: #5D9E5D; }\n",
       ".datatable .float   { background: #4040CC; }\n",
       ".datatable .str     { background: #CC4040; }\n",
       ".datatable .time    { background: #40CC40; }\n",
       ".datatable .row_index {  background: var(--jp-border-color3);  border-right: 1px solid var(--jp-border-color0);  color: var(--jp-ui-font-color3);  font-size: 9px;}\n",
       ".datatable .frame tbody td { text-align: left; }\n",
       ".datatable .frame tr.coltypes .row_index {  background: var(--jp-border-color0);}\n",
       ".datatable th:nth-child(2) { padding-left: 12px; }\n",
       ".datatable .hellipsis {  color: var(--jp-cell-editor-border-color);}\n",
       ".datatable .vellipsis {  background: var(--jp-layout-color0);  color: var(--jp-cell-editor-border-color);}\n",
       ".datatable .na {  color: var(--jp-cell-editor-border-color);  font-size: 80%;}\n",
       ".datatable .sp {  opacity: 0.25;}\n",
       ".datatable .footer { font-size: 9px; }\n",
       ".datatable .frame_dimensions {  background: var(--jp-border-color3);  border-top: 1px solid var(--jp-border-color0);  color: var(--jp-ui-font-color3);  display: inline-block;  opacity: 0.6;  padding: 1px 10px 1px 5px;}\n",
       "</style>\n"
      ],
      "text/plain": [
       "<IPython.core.display.HTML object>"
      ]
     },
     "metadata": {},
     "output_type": "display_data"
    },
    {
     "data": {
      "text/plain": [
       "SelectFromModel(estimator=LGBMRegressor(learning_rate=0.005, n_estimators=40,\n",
       "                                        num_leaves=50))"
      ]
     },
     "execution_count": 32,
     "metadata": {},
     "output_type": "execute_result"
    }
   ],
   "source": [
    "# Feature Selection\n",
    "X= train_df.drop(['Credit_Score'], axis=1)\n",
    "Y= train_df['Credit_Score']\n",
    "#from sklearn.feature_selection import f_regression, mutual_info_regression\n",
    "#from sklearn.feature_selection import SelectKBest, SelectPercentile\n",
    "from sklearn.feature_selection import SelectFromModel\n",
    "\n",
    "all_features = X.columns\n",
    "all_features\n",
    "\n",
    "import lightgbm as lgb\n",
    "#model = XGBRegressor()\n",
    "#model=RandomForestRegressor(n_estimators=100,max_depth=2, random_state=33)\n",
    "model=lgb.LGBMRegressor(num_leaves=50,learning_rate=0.005,n_estimators=40)\n",
    "#model=RandomForestClassifier(n_estimators=70)\n",
    "\n",
    "#selector = SelectKBest(k=60, score_func=f_regression)\n",
    "#selector = SelectKBest(k=40, score_func=mutual_info_regression)\n",
    "#selector = SelectPercentile(percentile=50, score_func=mutual_info_regression)\n",
    "selector = SelectFromModel(estimator=model)\n",
    "\n",
    "selector.fit(X, Y)"
   ]
  },
  {
   "cell_type": "code",
   "execution_count": 33,
   "id": "e25999a4",
   "metadata": {
    "execution": {
     "iopub.execute_input": "2022-07-23T20:50:11.473497Z",
     "iopub.status.busy": "2022-07-23T20:50:11.473175Z",
     "iopub.status.idle": "2022-07-23T20:50:11.479699Z",
     "shell.execute_reply": "2022-07-23T20:50:11.478779Z"
    },
    "papermill": {
     "duration": 0.027327,
     "end_time": "2022-07-23T20:50:11.481504",
     "exception": false,
     "start_time": "2022-07-23T20:50:11.454177",
     "status": "completed"
    },
    "tags": []
   },
   "outputs": [
    {
     "data": {
      "text/plain": [
       "array([ 0,  4,  5,  6,  7,  9, 10, 13, 14, 17])"
      ]
     },
     "execution_count": 33,
     "metadata": {},
     "output_type": "execute_result"
    }
   ],
   "source": [
    "selected_features_idx = selector.get_support(indices=True)\n",
    "selected_features_idx"
   ]
  },
  {
   "cell_type": "code",
   "execution_count": 34,
   "id": "b4e9ff53",
   "metadata": {
    "execution": {
     "iopub.execute_input": "2022-07-23T20:50:11.519341Z",
     "iopub.status.busy": "2022-07-23T20:50:11.518450Z",
     "iopub.status.idle": "2022-07-23T20:50:11.525401Z",
     "shell.execute_reply": "2022-07-23T20:50:11.524464Z"
    },
    "papermill": {
     "duration": 0.027954,
     "end_time": "2022-07-23T20:50:11.527391",
     "exception": false,
     "start_time": "2022-07-23T20:50:11.499437",
     "status": "completed"
    },
    "tags": []
   },
   "outputs": [
    {
     "data": {
      "text/plain": [
       "Index(['Month', 'Monthly_Inhand_Salary', 'Num_Bank_Accounts',\n",
       "       'Num_Credit_Card', 'Interest_Rate', 'Delay_from_due_date',\n",
       "       'Num_of_Delayed_Payment', 'Credit_Mix', 'Outstanding_Debt',\n",
       "       'Total_EMI_per_month'],\n",
       "      dtype='object')"
      ]
     },
     "execution_count": 34,
     "metadata": {},
     "output_type": "execute_result"
    }
   ],
   "source": [
    "selected_features = all_features[selected_features_idx]\n",
    "selected_features"
   ]
  },
  {
   "cell_type": "code",
   "execution_count": 35,
   "id": "125b9401",
   "metadata": {
    "execution": {
     "iopub.execute_input": "2022-07-23T20:50:11.565447Z",
     "iopub.status.busy": "2022-07-23T20:50:11.564711Z",
     "iopub.status.idle": "2022-07-23T20:50:11.598275Z",
     "shell.execute_reply": "2022-07-23T20:50:11.597337Z"
    },
    "papermill": {
     "duration": 0.055046,
     "end_time": "2022-07-23T20:50:11.600611",
     "exception": false,
     "start_time": "2022-07-23T20:50:11.545565",
     "status": "completed"
    },
    "tags": []
   },
   "outputs": [],
   "source": [
    "# Scaler data\n",
    "from sklearn.preprocessing import StandardScaler\n",
    "scaler= StandardScaler()\n",
    "\n",
    "scaler.fit(X[selected_features])\n",
    "\n",
    "X[selected_features] = scaler.transform(X[selected_features])"
   ]
  },
  {
   "cell_type": "code",
   "execution_count": 36,
   "id": "e3d51a2e",
   "metadata": {
    "execution": {
     "iopub.execute_input": "2022-07-23T20:50:11.639363Z",
     "iopub.status.busy": "2022-07-23T20:50:11.638441Z",
     "iopub.status.idle": "2022-07-23T20:50:11.667083Z",
     "shell.execute_reply": "2022-07-23T20:50:11.665659Z"
    },
    "papermill": {
     "duration": 0.050627,
     "end_time": "2022-07-23T20:50:11.669826",
     "exception": false,
     "start_time": "2022-07-23T20:50:11.619199",
     "status": "completed"
    },
    "tags": []
   },
   "outputs": [
    {
     "name": "stdout",
     "output_type": "stream",
     "text": [
      "(80000, 10)\n",
      "(20000, 10)\n",
      "(80000,)\n",
      "(20000,)\n"
     ]
    }
   ],
   "source": [
    "X= X[selected_features]\n",
    "Y= train_df['Credit_Score']\n",
    "X_train, X_test, y_train, y_test = train_test_split(X, Y, test_size=0.2, random_state=2)\n",
    "\n",
    "print(X_train.shape)\n",
    "print(X_test.shape)\n",
    "print(y_train.shape)\n",
    "print(y_test.shape)"
   ]
  },
  {
   "cell_type": "markdown",
   "id": "fc63ab74",
   "metadata": {
    "papermill": {
     "duration": 0.017838,
     "end_time": "2022-07-23T20:50:11.706449",
     "exception": false,
     "start_time": "2022-07-23T20:50:11.688611",
     "status": "completed"
    },
    "tags": []
   },
   "source": [
    "# Machine Learning Models\n"
   ]
  },
  {
   "cell_type": "code",
   "execution_count": 37,
   "id": "7591709a",
   "metadata": {
    "execution": {
     "iopub.execute_input": "2022-07-23T20:50:11.743882Z",
     "iopub.status.busy": "2022-07-23T20:50:11.742932Z",
     "iopub.status.idle": "2022-07-23T20:50:11.749090Z",
     "shell.execute_reply": "2022-07-23T20:50:11.748173Z"
    },
    "papermill": {
     "duration": 0.026675,
     "end_time": "2022-07-23T20:50:11.751021",
     "exception": false,
     "start_time": "2022-07-23T20:50:11.724346",
     "status": "completed"
    },
    "tags": []
   },
   "outputs": [],
   "source": [
    "models = {\n",
    "    \"LR\": LogisticRegression(),\n",
    "    \"KNN\": KNeighborsClassifier(),\n",
    "    \"SVC\": SVC(kernel='sigmoid'),\n",
    "    \"DT\": DecisionTreeClassifier(),\n",
    "    \"RF\": RandomForestClassifier(n_estimators=70),\n",
    "    \"XGB\": XGBClassifier(n_estimators=70),\n",
    "    \"Naive Bayes\": GaussianNB()\n",
    "}"
   ]
  },
  {
   "cell_type": "code",
   "execution_count": 38,
   "id": "a96feeb2",
   "metadata": {
    "execution": {
     "iopub.execute_input": "2022-07-23T20:50:11.789803Z",
     "iopub.status.busy": "2022-07-23T20:50:11.788193Z",
     "iopub.status.idle": "2022-07-23T21:07:47.140191Z",
     "shell.execute_reply": "2022-07-23T21:07:47.137970Z"
    },
    "papermill": {
     "duration": 1055.37355,
     "end_time": "2022-07-23T21:07:47.142723",
     "exception": false,
     "start_time": "2022-07-23T20:50:11.769173",
     "status": "completed"
    },
    "tags": []
   },
   "outputs": [
    {
     "name": "stdout",
     "output_type": "stream",
     "text": [
      "Training Model LR \n",
      "--------------\n",
      "Training Accuracy: 0.5780625\n",
      "Testing Accuracy: 0.5795\n",
      "Testing Confusion Matrix: \n",
      "[[ 883   62 2611]\n",
      " [ 161 2302 3361]\n",
      " [ 670 1545 8405]]\n",
      "------------------------------\n",
      "              precision    recall  f1-score   support\n",
      "\n",
      "           0       0.52      0.25      0.34      3556\n",
      "           1       0.59      0.40      0.47      5824\n",
      "           2       0.58      0.79      0.67     10620\n",
      "\n",
      "    accuracy                           0.58     20000\n",
      "   macro avg       0.56      0.48      0.49     20000\n",
      "weighted avg       0.57      0.58      0.55     20000\n",
      "\n",
      "Training Model KNN \n",
      "--------------\n",
      "Training Accuracy: 0.7287375\n",
      "Testing Accuracy: 0.61385\n",
      "Testing Confusion Matrix: \n",
      "[[1852  289 1415]\n",
      " [ 552 3323 1949]\n",
      " [1575 1943 7102]]\n",
      "------------------------------\n",
      "              precision    recall  f1-score   support\n",
      "\n",
      "           0       0.47      0.52      0.49      3556\n",
      "           1       0.60      0.57      0.58      5824\n",
      "           2       0.68      0.67      0.67     10620\n",
      "\n",
      "    accuracy                           0.61     20000\n",
      "   macro avg       0.58      0.59      0.58     20000\n",
      "weighted avg       0.62      0.61      0.62     20000\n",
      "\n",
      "Training Model SVC \n",
      "--------------\n",
      "Training Accuracy: 0.4443625\n",
      "Testing Accuracy: 0.4436\n",
      "Testing Confusion Matrix: \n",
      "[[1342  215 1999]\n",
      " [ 625 1922 3277]\n",
      " [2838 2174 5608]]\n",
      "------------------------------\n",
      "              precision    recall  f1-score   support\n",
      "\n",
      "           0       0.28      0.38      0.32      3556\n",
      "           1       0.45      0.33      0.38      5824\n",
      "           2       0.52      0.53      0.52     10620\n",
      "\n",
      "    accuracy                           0.44     20000\n",
      "   macro avg       0.41      0.41      0.41     20000\n",
      "weighted avg       0.45      0.44      0.44     20000\n",
      "\n",
      "Training Model DT \n",
      "--------------\n",
      "Training Accuracy: 1.0\n",
      "Testing Accuracy: 0.74\n",
      "Testing Confusion Matrix: \n",
      "[[2364  188 1004]\n",
      " [ 143 4258 1423]\n",
      " [1026 1416 8178]]\n",
      "------------------------------\n",
      "              precision    recall  f1-score   support\n",
      "\n",
      "           0       0.67      0.66      0.67      3556\n",
      "           1       0.73      0.73      0.73      5824\n",
      "           2       0.77      0.77      0.77     10620\n",
      "\n",
      "    accuracy                           0.74     20000\n",
      "   macro avg       0.72      0.72      0.72     20000\n",
      "weighted avg       0.74      0.74      0.74     20000\n",
      "\n",
      "Training Model RF \n",
      "--------------\n",
      "Training Accuracy: 0.999975\n",
      "Testing Accuracy: 0.81095\n",
      "Testing Confusion Matrix: \n",
      "[[2690   21  845]\n",
      " [  88 4806  930]\n",
      " [ 778 1119 8723]]\n",
      "------------------------------\n",
      "              precision    recall  f1-score   support\n",
      "\n",
      "           0       0.76      0.76      0.76      3556\n",
      "           1       0.81      0.83      0.82      5824\n",
      "           2       0.83      0.82      0.83     10620\n",
      "\n",
      "    accuracy                           0.81     20000\n",
      "   macro avg       0.80      0.80      0.80     20000\n",
      "weighted avg       0.81      0.81      0.81     20000\n",
      "\n",
      "Training Model XGB \n",
      "--------------\n",
      "Training Accuracy: 0.7781\n",
      "Testing Accuracy: 0.7449\n",
      "Testing Confusion Matrix: \n",
      "[[2458   62 1036]\n",
      " [ 270 4289 1265]\n",
      " [1038 1431 8151]]\n",
      "------------------------------\n",
      "              precision    recall  f1-score   support\n",
      "\n",
      "           0       0.65      0.69      0.67      3556\n",
      "           1       0.74      0.74      0.74      5824\n",
      "           2       0.78      0.77      0.77     10620\n",
      "\n",
      "    accuracy                           0.74     20000\n",
      "   macro avg       0.72      0.73      0.73     20000\n",
      "weighted avg       0.75      0.74      0.75     20000\n",
      "\n",
      "Training Model Naive Bayes \n",
      "--------------\n",
      "Training Accuracy: 0.5667\n",
      "Testing Accuracy: 0.5702\n",
      "Testing Confusion Matrix: \n",
      "[[1905   80 1571]\n",
      " [ 523 3013 2288]\n",
      " [2268 1866 6486]]\n",
      "------------------------------\n",
      "              precision    recall  f1-score   support\n",
      "\n",
      "           0       0.41      0.54      0.46      3556\n",
      "           1       0.61      0.52      0.56      5824\n",
      "           2       0.63      0.61      0.62     10620\n",
      "\n",
      "    accuracy                           0.57     20000\n",
      "   macro avg       0.55      0.55      0.55     20000\n",
      "weighted avg       0.58      0.57      0.57     20000\n",
      "\n"
     ]
    }
   ],
   "source": [
    "for name, model in models.items():\n",
    "    print(f'Training Model {name} \\n--------------')\n",
    "    model.fit(X_train, y_train)\n",
    "    y_pred = model.predict(X_test)\n",
    "    print(f'Training Accuracy: {model.score(X_train, y_train)}')\n",
    "    print(f'Testing Accuracy: {accuracy_score(y_test, y_pred)}')\n",
    "    print(f'Testing Confusion Matrix: \\n{confusion_matrix(y_test, y_pred)}')\n",
    "    print('-'*30)\n",
    "    print(classification_report(y_test, y_pred))"
   ]
  },
  {
   "cell_type": "markdown",
   "id": "754f957b",
   "metadata": {
    "papermill": {
     "duration": 0.019014,
     "end_time": "2022-07-23T21:07:47.181355",
     "exception": false,
     "start_time": "2022-07-23T21:07:47.162341",
     "status": "completed"
    },
    "tags": []
   },
   "source": [
    "Best model is  RF accuracy  0.81"
   ]
  },
  {
   "cell_type": "code",
   "execution_count": null,
   "id": "d5f935d4",
   "metadata": {
    "papermill": {
     "duration": 0.018211,
     "end_time": "2022-07-23T21:07:47.218677",
     "exception": false,
     "start_time": "2022-07-23T21:07:47.200466",
     "status": "completed"
    },
    "tags": []
   },
   "outputs": [],
   "source": []
  }
 ],
 "metadata": {
  "kernelspec": {
   "display_name": "Python 3",
   "language": "python",
   "name": "python3"
  },
  "language_info": {
   "codemirror_mode": {
    "name": "ipython",
    "version": 3
   },
   "file_extension": ".py",
   "mimetype": "text/x-python",
   "name": "python",
   "nbconvert_exporter": "python",
   "pygments_lexer": "ipython3",
   "version": "3.7.12"
  },
  "papermill": {
   "default_parameters": {},
   "duration": 1138.79795,
   "end_time": "2022-07-23T21:07:48.461060",
   "environment_variables": {},
   "exception": null,
   "input_path": "__notebook__.ipynb",
   "output_path": "__notebook__.ipynb",
   "parameters": {},
   "start_time": "2022-07-23T20:48:49.663110",
   "version": "2.3.4"
  }
 },
 "nbformat": 4,
 "nbformat_minor": 5
}
